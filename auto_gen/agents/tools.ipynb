{
 "cells": [
  {
   "cell_type": "code",
   "execution_count": 3,
   "id": "51639bfe",
   "metadata": {},
   "outputs": [
    {
     "name": "stdout",
     "output_type": "stream",
     "text": [
      "I'm unable to access external websites or fetch their content directly. However, I can provide a general summary based on what I know:\n",
      "\n",
      "Seattle is a major city in the Pacific Northwest region of the United States, situated in the state of Washington. It is the largest city in Washington and the greater Pacific Northwest region. Known for its vibrant tech industry, Seattle is home to major corporations like Amazon and Microsoft.\n",
      "\n",
      "The city is also famous for its iconic landmarks such as the Space Needle, Pike Place Market, and its beautiful natural surroundings, including nearby mountains and bodies of water like Puget Sound. Seattle has a rich cultural scene, with a strong music history linked to the grunge movement of the 1990s and a diverse culinary landscape.\n",
      "\n",
      "Seattle's economy is powered by a mix of industries, with technology, aerospace (with Boeing being a significant player), and maritime activities playing major roles. The city is also active in environmental initiatives and sustainability efforts.\n",
      "\n",
      "With a population that celebrates diversity and technology-driven innovation, Seattle continues to grow both as a cultural hub and an economic powerhouse on the west coast of the United States.\n",
      "\n",
      "If you have any specific aspects of Seattle you'd like to know more about, feel free to let me know!\n"
     ]
    }
   ],
   "source": [
    "from autogen_agentchat.agents import AssistantAgent\n",
    "from autogen_ext.models.openai import OpenAIChatCompletionClient\n",
    "from autogen_ext.tools.mcp import StdioServerParams, mcp_server_tools\n",
    "from dotenv import load_dotenv\n",
    "load_dotenv()\n",
    "\n",
    "\n",
    "async def main() -> None:\n",
    "    # Get the fetch tool from mcp-server-fetch.\n",
    "    fetch_mcp_server = StdioServerParams(command=\"uvx\", args=[\"mcp-server-fetch\"])\n",
    "    tools = await mcp_server_tools(fetch_mcp_server)\n",
    "\n",
    "    # Create an agent that can use the fetch tool.\n",
    "    model_client = OpenAIChatCompletionClient(model=\"gpt-4o\")\n",
    "    agent = AssistantAgent(name=\"fetcher\", model_client=model_client, tools=tools, reflect_on_tool_use=True)  # type: ignore\n",
    "\n",
    "    # Let the agent fetch the content of a URL and summarize it.\n",
    "    result = await agent.run(task=\"Summarize the content of https://en.wikipedia.org/wiki/Seattle\")\n",
    "    print(result.messages[-1].content)\n",
    "\n",
    "\n",
    "await main()"
   ]
  },
  {
   "cell_type": "code",
   "execution_count": 4,
   "id": "0cce8973",
   "metadata": {},
   "outputs": [
    {
     "name": "stdout",
     "output_type": "stream",
     "text": [
      "Tools: ['browser_close', 'browser_resize', 'browser_console_messages', 'browser_handle_dialog', 'browser_evaluate', 'browser_file_upload', 'browser_install', 'browser_press_key', 'browser_type', 'browser_navigate', 'browser_navigate_back', 'browser_navigate_forward', 'browser_network_requests', 'browser_take_screenshot', 'browser_snapshot', 'browser_click', 'browser_drag', 'browser_hover', 'browser_select_option', 'browser_tab_list', 'browser_tab_new', 'browser_tab_select', 'browser_tab_close', 'browser_wait_for']\n",
      "---------- TextMessage (user) ----------\n",
      "Go to https://ekzhu.com/, visit the first link in the page, then tell me about the linked page.\n",
      "---------- ToolCallRequestEvent (Assistant) ----------\n",
      "[FunctionCall(id='call_QF4g1NrM8nLhjiwww1KGfoa3', arguments='{\"url\":\"https://ekzhu.com/\"}', name='browser_navigate')]\n",
      "---------- ToolCallExecutionEvent (Assistant) ----------\n",
      "[FunctionExecutionResult(content='[{\"type\": \"text\", \"text\": \"### Ran Playwright code\\\\n```js\\\\n// Navigate to https://ekzhu.com/\\\\nawait page.goto(\\'https://ekzhu.com/\\');\\\\n```\\\\n\\\\n### Page state\\\\n- Page URL: https://ekzhu.com/\\\\n- Page Title: Erkang (Eric) Zhu\\\\n- Page Snapshot:\\\\n```yaml\\\\n- generic [ref=e2]:\\\\n  - button \\\\\"Open navigation menu\\\\\" [ref=e3] [cursor=pointer]\\\\n  - banner [ref=e4]:\\\\n    - heading \\\\\"Erkang (Eric) Zhu \\\\u795d\\\\u5c14\\\\u5eb7\\\\\" [level=3] [ref=e6]:\\\\n      - link \\\\\"Erkang (Eric) Zhu\\\\\" [ref=e7] [cursor=pointer]:\\\\n        - /url: /\\\\n      - generic [ref=e9]: \\\\u795d\\\\u5c14\\\\u5eb7\\\\n  - main [ref=e10]:\\\\n    - paragraph [ref=e11]:\\\\n      - img \\\\\"profile picture\\\\\" [ref=e12]\\\\n    - paragraph [ref=e13]:\\\\n      - text: I am a Principal Researcher at\\\\n      - link \\\\\"Microsoft Research\\\\\" [ref=e14] [cursor=pointer]:\\\\n        - /url: https://www.microsoft.com/en-us/research/people/ekzhu/\\\\n      - text: \\\\\", focusing on AI agents. I have also worked on database research in the past.\\\\\"\\\\n    - paragraph [ref=e15]:\\\\n      - text: I am currently the lead architect of\\\\n      - link \\\\\"AutoGen\\\\\" [ref=e16] [cursor=pointer]:\\\\n        - /url: https://github.com/microsoft/autogen\\\\n      - img [ref=e17]\\\\n      - img [ref=e18]\\\\n      - text: \\\\\", an open-source framework for building AI agents and multi-agent applications. AutoGen provides a simple, high-level API for creating and managing agents that work together to solve complex tasks automonously or under human supervision. It also provides an event-driven, low-level API for building workflows and gives developers full control of agent behavior. The framework is based on the\\\\\"\\\\n      - link \\\\\"Actor Model\\\\\" [ref=e19] [cursor=pointer]:\\\\n        - /url: https://en.wikipedia.org/wiki/Actor_model\\\\n      - text: of distributed computing, with an agent runtime layer that can be deployed in a distributed environment, hosting agents created with different programming languages.\\\\n    - paragraph [ref=e20]:\\\\n      - text: My previous projects at Microsoft Research focused on query processing. We developed\\\\n      - link \\\\\"a cost-based, platform-independent query plan rewrite rule\\\\\" [ref=e21] [cursor=pointer]:\\\\n        - /url: https://www.vldb.org/pvldb/vol16/p1181-zhu.pdf\\\\n      - text: for\\\\n      - link \\\\\"MATCH_RECOGNIZE\\\\\" [ref=e22] [cursor=pointer]:\\\\n        - /url: https://trino.io/docs/current/sql/match-recognize.html\\\\n        - code [ref=e23] [cursor=pointer]: MATCH_RECOGNIZE\\\\n      - text: queries in general-purpose SQL engines. The new rule boosts median query latency by 5.4X in Trino. In an even more ambitious undertaking, we developed\\\\n      - link \\\\\"a specialized execution engine for MATCH_RECOGNIZE\\\\\" [ref=e24] [cursor=pointer]:\\\\n        - /url: https://www.microsoft.com/en-us/research/publication/t-rex-optimizing-pattern-search-on-time-series-extended-version/\\\\n        - text: a specialized execution engine for\\\\n        - code [ref=e25] [cursor=pointer]: MATCH_RECOGNIZE\\\\n      - text: \\\\\", which includes an extended set of operators and a query optimizer based on a novel cost model. Our work resulted in a 6X median performance improvement over state-of-the-art specialized execution engines.\\\\\"\\\\n    - paragraph [ref=e26]:\\\\n      - text: Before joining Microsoft Research, I completed my PhD in Computer Science at the University of Toronto, under the guidance of\\\\n      - link \\\\\"Prof. Ren\\\\u00e9e J. Miller\\\\\" [ref=e27] [cursor=pointer]:\\\\n        - /url: https://www.cs.toronto.edu/~miller\\\\n      - text: . My\\\\n      - link \\\\\"thesis\\\\\" [ref=e28] [cursor=pointer]:\\\\n        - /url: /papers/Zhu_Erkang_201906_PhD_thesis.pdf\\\\n      - text: is in dataset search over massive\\\\n      - link \\\\\"Open Data\\\\\" [ref=e29] [cursor=pointer]:\\\\n        - /url: https://en.wikipedia.org/wiki/Open_data\\\\n      - text: archives. Specifically, I contributed algorithms for large-scale\\\\n      - link \\\\\"set similarity search\\\\\" [ref=e30] [cursor=pointer]:\\\\n        - /url: https://github.com/ekzhu/SetSimilaritySearch\\\\n      - img [ref=e31]\\\\n      - img [ref=e32]\\\\n      - text: and\\\\n      - link \\\\\"data sketches\\\\\" [ref=e33] [cursor=pointer]:\\\\n        - /url: https://github.com/ekzhu/datasketch\\\\n      - img [ref=e34]\\\\n      - img [ref=e35]\\\\n      - text: . These algorithms can find joinable or unionable tables from over 100K tables in milliseconds. Based on my research work, I built\\\\n      - link \\\\\"an Open Data search engine stack\\\\\" [ref=e36] [cursor=pointer]:\\\\n        - /url: https://github.com/findopendata/findopendata\\\\n      - text: to make it easy for people to use Open Data in their applications.\\\\n    - paragraph [ref=e37]:\\\\n      - text: I am constantly exploring new ideas in computing through\\\\n      - link \\\\\"my open-source projects\\\\\" [ref=e38] [cursor=pointer]:\\\\n        - /url: https://github.com/ekzhu\\\\n      - text: and\\\\n      - link \\\\\"writings\\\\\" [ref=e39] [cursor=pointer]:\\\\n        - /url: https://ekzhu.medium.com/\\\\n      - text: . My goal is to work towards the democratization of computation, whereby advanced A.I. and algorithms are easily accessible to everyone.\\\\n    - paragraph [ref=e40]:\\\\n      - text: \\\\\"[\\\\\"\\\\n      - link \\\\\"Github\\\\\" [ref=e41] [cursor=pointer]:\\\\n        - /url: https://github.com/ekzhu\\\\n      - text: \\\\\"] [\\\\\"\\\\n      - link \\\\\"Google Scholar\\\\\" [ref=e42] [cursor=pointer]:\\\\n        - /url: https://scholar.google.com/citations?user=8vrVMwIAAAAJ&hl=zh-CN\\\\n      - text: \\\\\"] [\\\\\"\\\\n      - link \\\\\"Blog\\\\\" [ref=e43] [cursor=pointer]:\\\\n        - /url: https://ekzhu.medium.com/\\\\n      - text: \\\\\"] [\\\\\"\\\\n      - link \\\\\"Email\\\\\" [ref=e44] [cursor=pointer]:\\\\n        - /url: mailto:ekzhu@cs.toronto.edu\\\\n      - text: \\\\\"]\\\\\"\\\\n```\", \"annotations\": null, \"meta\": null}]', name='browser_navigate', call_id='call_QF4g1NrM8nLhjiwww1KGfoa3', is_error=False)]\n",
      "---------- ToolCallSummaryMessage (Assistant) ----------\n",
      "[{\"type\": \"text\", \"text\": \"### Ran Playwright code\\n```js\\n// Navigate to https://ekzhu.com/\\nawait page.goto('https://ekzhu.com/');\\n```\\n\\n### Page state\\n- Page URL: https://ekzhu.com/\\n- Page Title: Erkang (Eric) Zhu\\n- Page Snapshot:\\n```yaml\\n- generic [ref=e2]:\\n  - button \\\"Open navigation menu\\\" [ref=e3] [cursor=pointer]\\n  - banner [ref=e4]:\\n    - heading \\\"Erkang (Eric) Zhu \\u795d\\u5c14\\u5eb7\\\" [level=3] [ref=e6]:\\n      - link \\\"Erkang (Eric) Zhu\\\" [ref=e7] [cursor=pointer]:\\n        - /url: /\\n      - generic [ref=e9]: \\u795d\\u5c14\\u5eb7\\n  - main [ref=e10]:\\n    - paragraph [ref=e11]:\\n      - img \\\"profile picture\\\" [ref=e12]\\n    - paragraph [ref=e13]:\\n      - text: I am a Principal Researcher at\\n      - link \\\"Microsoft Research\\\" [ref=e14] [cursor=pointer]:\\n        - /url: https://www.microsoft.com/en-us/research/people/ekzhu/\\n      - text: \\\", focusing on AI agents. I have also worked on database research in the past.\\\"\\n    - paragraph [ref=e15]:\\n      - text: I am currently the lead architect of\\n      - link \\\"AutoGen\\\" [ref=e16] [cursor=pointer]:\\n        - /url: https://github.com/microsoft/autogen\\n      - img [ref=e17]\\n      - img [ref=e18]\\n      - text: \\\", an open-source framework for building AI agents and multi-agent applications. AutoGen provides a simple, high-level API for creating and managing agents that work together to solve complex tasks automonously or under human supervision. It also provides an event-driven, low-level API for building workflows and gives developers full control of agent behavior. The framework is based on the\\\"\\n      - link \\\"Actor Model\\\" [ref=e19] [cursor=pointer]:\\n        - /url: https://en.wikipedia.org/wiki/Actor_model\\n      - text: of distributed computing, with an agent runtime layer that can be deployed in a distributed environment, hosting agents created with different programming languages.\\n    - paragraph [ref=e20]:\\n      - text: My previous projects at Microsoft Research focused on query processing. We developed\\n      - link \\\"a cost-based, platform-independent query plan rewrite rule\\\" [ref=e21] [cursor=pointer]:\\n        - /url: https://www.vldb.org/pvldb/vol16/p1181-zhu.pdf\\n      - text: for\\n      - link \\\"MATCH_RECOGNIZE\\\" [ref=e22] [cursor=pointer]:\\n        - /url: https://trino.io/docs/current/sql/match-recognize.html\\n        - code [ref=e23] [cursor=pointer]: MATCH_RECOGNIZE\\n      - text: queries in general-purpose SQL engines. The new rule boosts median query latency by 5.4X in Trino. In an even more ambitious undertaking, we developed\\n      - link \\\"a specialized execution engine for MATCH_RECOGNIZE\\\" [ref=e24] [cursor=pointer]:\\n        - /url: https://www.microsoft.com/en-us/research/publication/t-rex-optimizing-pattern-search-on-time-series-extended-version/\\n        - text: a specialized execution engine for\\n        - code [ref=e25] [cursor=pointer]: MATCH_RECOGNIZE\\n      - text: \\\", which includes an extended set of operators and a query optimizer based on a novel cost model. Our work resulted in a 6X median performance improvement over state-of-the-art specialized execution engines.\\\"\\n    - paragraph [ref=e26]:\\n      - text: Before joining Microsoft Research, I completed my PhD in Computer Science at the University of Toronto, under the guidance of\\n      - link \\\"Prof. Ren\\u00e9e J. Miller\\\" [ref=e27] [cursor=pointer]:\\n        - /url: https://www.cs.toronto.edu/~miller\\n      - text: . My\\n      - link \\\"thesis\\\" [ref=e28] [cursor=pointer]:\\n        - /url: /papers/Zhu_Erkang_201906_PhD_thesis.pdf\\n      - text: is in dataset search over massive\\n      - link \\\"Open Data\\\" [ref=e29] [cursor=pointer]:\\n        - /url: https://en.wikipedia.org/wiki/Open_data\\n      - text: archives. Specifically, I contributed algorithms for large-scale\\n      - link \\\"set similarity search\\\" [ref=e30] [cursor=pointer]:\\n        - /url: https://github.com/ekzhu/SetSimilaritySearch\\n      - img [ref=e31]\\n      - img [ref=e32]\\n      - text: and\\n      - link \\\"data sketches\\\" [ref=e33] [cursor=pointer]:\\n        - /url: https://github.com/ekzhu/datasketch\\n      - img [ref=e34]\\n      - img [ref=e35]\\n      - text: . These algorithms can find joinable or unionable tables from over 100K tables in milliseconds. Based on my research work, I built\\n      - link \\\"an Open Data search engine stack\\\" [ref=e36] [cursor=pointer]:\\n        - /url: https://github.com/findopendata/findopendata\\n      - text: to make it easy for people to use Open Data in their applications.\\n    - paragraph [ref=e37]:\\n      - text: I am constantly exploring new ideas in computing through\\n      - link \\\"my open-source projects\\\" [ref=e38] [cursor=pointer]:\\n        - /url: https://github.com/ekzhu\\n      - text: and\\n      - link \\\"writings\\\" [ref=e39] [cursor=pointer]:\\n        - /url: https://ekzhu.medium.com/\\n      - text: . My goal is to work towards the democratization of computation, whereby advanced A.I. and algorithms are easily accessible to everyone.\\n    - paragraph [ref=e40]:\\n      - text: \\\"[\\\"\\n      - link \\\"Github\\\" [ref=e41] [cursor=pointer]:\\n        - /url: https://github.com/ekzhu\\n      - text: \\\"] [\\\"\\n      - link \\\"Google Scholar\\\" [ref=e42] [cursor=pointer]:\\n        - /url: https://scholar.google.com/citations?user=8vrVMwIAAAAJ&hl=zh-CN\\n      - text: \\\"] [\\\"\\n      - link \\\"Blog\\\" [ref=e43] [cursor=pointer]:\\n        - /url: https://ekzhu.medium.com/\\n      - text: \\\"] [\\\"\\n      - link \\\"Email\\\" [ref=e44] [cursor=pointer]:\\n        - /url: mailto:ekzhu@cs.toronto.edu\\n      - text: \\\"]\\\"\\n```\", \"annotations\": null, \"meta\": null}]\n",
      "---------- ToolCallRequestEvent (Assistant) ----------\n",
      "[FunctionCall(id='call_XmamsKTgt2L8zTzDEoiNgmFx', arguments='{\"element\":\"link to Microsoft Research\",\"ref\":\"e14\"}', name='browser_click')]\n",
      "---------- ToolCallExecutionEvent (Assistant) ----------\n",
      "[FunctionExecutionResult(content='[{\"type\": \"text\", \"text\": \"### Ran Playwright code\\\\n```js\\\\n// Click link to Microsoft Research\\\\nawait page.getByRole(\\'link\\', { name: \\'Microsoft Research\\' }).click();\\\\n```\\\\n\\\\n### New console messages\\\\n- [LOG] JQMIGRATE: Migrate is installed with logging active, version 3.0.0 @ https://www.microsoft.com...\\\\n- [ERROR] Mixed Content: The page at \\'https://www.microsoft.com/en-us/research/people/ekzhu/\\' was load...\\\\n- [ERROR] Failed to load resource: net::ERR_NAME_NOT_RESOLVED @ https://cdn.clicktale.com/js/www07/ptc...\\\\n- [ERROR] Failed to load resource: the server responded with a status of 400 () @ https://www.facebook...\\\\n\\\\n### Page state\\\\n- Page URL: https://www.microsoft.com/en-us/research/people/ekzhu/\\\\n- Page Title: Erkang (Eric) Zhu at Microsoft Research\\\\n- Page Snapshot:\\\\n```yaml\\\\n- generic [active] [ref=e1]:\\\\n  - generic [ref=e7]:\\\\n    - link \\\\\"Skip to main content\\\\\" [ref=e8] [cursor=pointer]:\\\\n      - /url: javascript:void(0)\\\\n    - banner [ref=e9]:\\\\n      - generic [ref=e11]:\\\\n        - button \\\\\"All Microsoft expand to see list of Microsoft products and services\\\\\" [ref=e12] [cursor=pointer]: \\\\ue700\\\\n        - text: \\\\ue0d5\\\\n        - link \\\\\"Microsoft\\\\\" [ref=e13] [cursor=pointer]:\\\\n          - /url: https://www.microsoft.com\\\\n          - img [ref=e14] [cursor=pointer]\\\\n          - generic [ref=e15] [cursor=pointer]: Microsoft\\\\n        - text: \\\\ue76b \\\\ue76c\\\\n        - button \\\\\"Research\\\\\" [ref=e17] [cursor=pointer]: Research \\\\ue70d\\\\n        - text: \\\\ue70d \\\\ue70d \\\\ue70d \\\\ue70d \\\\ue70d \\\\ue70d \\\\ue70d \\\\ue70d \\\\ue70d \\\\ue70d \\\\ue70d \\\\ue70d \\\\ue70d\\\\n        - generic [ref=e18]:\\\\n          - generic: \\\\ue70d \\\\ue70d \\\\ue70d \\\\ue70d \\\\ue70d\\\\n          - search:\\\\n            - status [ref=e22]\\\\n            - button \\\\\"Search Microsoft Research\\\\\" [ref=e23] [cursor=pointer]: \\\\ue721\\\\n  - main [ref=e24]:\\\\n    - generic [ref=e32]:\\\\n      - img \\\\\"Portrait of Erkang (Eric) Zhu\\\\\" [ref=e35]\\\\n      - generic [ref=e36]:\\\\n        - heading \\\\\"Erkang (Eric) Zhu\\\\\" [level=1] [ref=e37]\\\\n        - paragraph [ref=e38]: Principal Researcher\\\\n    - generic [ref=e39]:\\\\n      - navigation \\\\\"Profile navigation\\\\\" [ref=e40]:\\\\n        - list [ref=e41]:\\\\n          - listitem [ref=e42]:\\\\n            - link \\\\\"About\\\\\" [ref=e43] [cursor=pointer]:\\\\n              - /url: https://www.microsoft.com/en-us/research/people/ekzhu/\\\\n          - listitem [ref=e44]:\\\\n            - link \\\\\"Projects\\\\\" [ref=e45] [cursor=pointer]:\\\\n              - /url: https://www.microsoft.com/en-us/research/people/ekzhu/projects/\\\\n          - listitem [ref=e46]:\\\\n            - link \\\\\"Publications\\\\\" [ref=e47] [cursor=pointer]:\\\\n              - /url: https://www.microsoft.com/en-us/research/people/ekzhu/publications/\\\\n      - generic [ref=e49]:\\\\n        - generic [ref=e51]:\\\\n          - heading \\\\\"About\\\\\" [level=2] [ref=e52]\\\\n          - paragraph [ref=e53]:\\\\n            - text: I am currently working on AI agents and serving as a core maintainer of the\\\\n            - link \\\\\"AutoGen project (opens in new tab) \\\\uf6ab\\\\\" [ref=e54] [cursor=pointer]:\\\\n              - /url: https://github.com/microsoft/autogen\\\\n              - text: AutoGen project\\\\n              - generic [ref=e55] [cursor=pointer]: (opens in new tab)\\\\n              - text: \\\\uf6ab\\\\n            - text: .\\\\n          - paragraph [ref=e56]:\\\\n            - text: Visit my homepage at\\\\n            - link \\\\\"ekzhu.com (opens in new tab) \\\\uf6ab\\\\\" [ref=e57] [cursor=pointer]:\\\\n              - /url: https://ekzhu.com\\\\n              - text: ekzhu.com\\\\n              - generic [ref=e58] [cursor=pointer]: (opens in new tab)\\\\n              - text: \\\\uf6ab\\\\n            - text: .\\\\n          - generic [ref=e59]: Opens in a new tab\\\\n        - complementary [ref=e60]:\\\\n          - generic [ref=e62]:\\\\n            - heading \\\\\"Research areas\\\\\" [level=3] [ref=e63]\\\\n            - list [ref=e64]:\\\\n              - listitem [ref=e65]:\\\\n                - link \\\\\"Artificial intelligence\\\\\" [ref=e67] [cursor=pointer]:\\\\n                  - /url: https://www.microsoft.com/en-us/research/research-area/artificial-intelligence/\\\\n              - listitem [ref=e68]:\\\\n                - link \\\\\"Data platforms and analytics\\\\\" [ref=e70] [cursor=pointer]:\\\\n                  - /url: https://www.microsoft.com/en-us/research/research-area/data-platform-analytics?lang=fr_ca/\\\\n    - generic [ref=e75]:\\\\n      - generic [ref=e77]:\\\\n        - heading \\\\\"Contact Erkang (Eric) Zhu\\\\\" [level=3] [ref=e78]\\\\n        - list [ref=e79]:\\\\n          - listitem [ref=e80]:\\\\n            - link \\\\\"Email Link for Erkang (Eric) Zhu\\\\\" [ref=e82] [cursor=pointer]:\\\\n              - /url: mailto:ekzhu@microsoft.com\\\\n              - text: ekzhu@microsoft.com\\\\n          - listitem [ref=e83]:\\\\n            - link \\\\\"Website\\\\\" [ref=e85] [cursor=pointer]:\\\\n              - /url: http://ekzhu.com\\\\n          - listitem [ref=e86]:\\\\n            - link \\\\\"Github\\\\\" [ref=e88] [cursor=pointer]:\\\\n              - /url: https://github.com/ekzhu\\\\n      - generic [ref=e90]:\\\\n        - heading \\\\\"AI Frontiers\\\\\" [level=3] [ref=e91]\\\\n        - link \\\\\"Learn more about AI Frontiers\\\\\" [ref=e94] [cursor=pointer]:\\\\n          - /url: https://www.microsoft.com/en-us/research/lab/ai-frontiers/\\\\n          - text: Learn more \\\\ue76c\\\\n  - region \\\\\"Social media links\\\\\" [ref=e96]:\\\\n    - generic [ref=e98]:\\\\n      - generic [ref=e100]:\\\\n        - paragraph [ref=e101]: \\\\\"Follow us:\\\\\"\\\\n        - list \\\\\"Follow us:\\\\\" [ref=e102]:\\\\n          - listitem [ref=e103]:\\\\n            - link \\\\\"Follow on X\\\\\" [ref=e104] [cursor=pointer]:\\\\n              - /url: \\\\\"\\\\\\\\n\\\\\\\\t\\\\\\\\t\\\\\\\\t\\\\\\\\t\\\\\\\\t\\\\\\\\t\\\\\\\\t\\\\\\\\t\\\\\\\\thttps://x.com/intent/follow?original_referrer&screen_name=MSFTResearch\\\\\\\\t\\\\\\\\t\\\\\\\\t\\\\\\\\t\\\\\\\\t\\\\\\\\t\\\\\\\\t\\\\\\\\t\\\\\\\\t\\\\\"\\\\n              - generic [ref=e105] [cursor=pointer]: Follow on X\\\\n              - img [ref=e106] [cursor=pointer]\\\\n          - listitem [ref=e108]:\\\\n            - link \\\\\"Like on Facebook\\\\\" [ref=e109] [cursor=pointer]:\\\\n              - /url: https://www.facebook.com/microsoftresearch/\\\\n              - generic [ref=e110] [cursor=pointer]: Like on Facebook\\\\n              - img [ref=e111] [cursor=pointer]\\\\n          - listitem [ref=e113]:\\\\n            - link \\\\\"Follow on LinkedIn\\\\\" [ref=e114] [cursor=pointer]:\\\\n              - /url: https://www.linkedin.com/showcase/microsoftresearch/\\\\n              - generic [ref=e115] [cursor=pointer]: Follow on LinkedIn\\\\n              - img [ref=e116] [cursor=pointer]\\\\n          - listitem [ref=e118]:\\\\n            - link \\\\\"Subscribe on Youtube\\\\\" [ref=e119] [cursor=pointer]:\\\\n              - /url: https://www.youtube.com/user/MicrosoftResearch\\\\n              - generic [ref=e120] [cursor=pointer]: Subscribe on Youtube\\\\n              - img [ref=e121] [cursor=pointer]\\\\n          - listitem [ref=e123]:\\\\n            - link \\\\\"Follow on Instagram\\\\\" [ref=e124] [cursor=pointer]:\\\\n              - /url: https://www.instagram.com/msft_research/\\\\n              - generic [ref=e125] [cursor=pointer]: Follow on Instagram\\\\n              - img [ref=e126] [cursor=pointer]\\\\n          - listitem [ref=e128]:\\\\n            - link \\\\\"Subscribe to our RSS feed\\\\\" [ref=e129] [cursor=pointer]:\\\\n              - /url: https://www.microsoft.com/en-us/research/feed/\\\\n              - generic [ref=e130] [cursor=pointer]: Subscribe to our RSS feed\\\\n              - img [ref=e131] [cursor=pointer]\\\\n      - generic [ref=e134]:\\\\n        - paragraph [ref=e135]: \\\\\"Share this page:\\\\\"\\\\n        - list \\\\\"Share this page:\\\\\" [ref=e136]:\\\\n          - listitem [ref=e137]:\\\\n            - link \\\\\"Share on X\\\\\" [ref=e138] [cursor=pointer]:\\\\n              - /url: \\\\\"\\\\\\\\n\\\\\\\\t\\\\\\\\t\\\\\\\\t\\\\\\\\t\\\\\\\\t\\\\\\\\t\\\\\\\\t\\\\\\\\t\\\\\\\\thttps://x.com/intent/tweet?text&url=https%3A%2F%2Fwww.microsoft.com%2Fen-us%2Fresearch%2Fpeople%2Fekzhu\\\\\\\\t\\\\\\\\t\\\\\\\\t\\\\\\\\t\\\\\\\\t\\\\\\\\t\\\\\\\\t\\\\\\\\t\\\\\\\\t\\\\\"\\\\n              - generic [ref=e139] [cursor=pointer]: Share on X\\\\n              - img [ref=e140] [cursor=pointer]\\\\n          - listitem [ref=e142]:\\\\n            - link \\\\\"Share on Facebook\\\\\" [ref=e143] [cursor=pointer]:\\\\n              - /url: \\\\\"\\\\\\\\n\\\\\\\\t\\\\\\\\t\\\\\\\\t\\\\\\\\t\\\\\\\\t\\\\\\\\t\\\\\\\\t\\\\\\\\t\\\\\\\\thttps://www.facebook.com/sharer/sharer.php?u=https%3A%2F%2Fwww.microsoft.com%2Fen-us%2Fresearch%2Fpeople%2Fekzhu\\\\\\\\t\\\\\\\\t\\\\\\\\t\\\\\\\\t\\\\\\\\t\\\\\\\\t\\\\\\\\t\\\\\\\\t\\\\\\\\t\\\\\"\\\\n              - generic [ref=e144] [cursor=pointer]: Share on Facebook\\\\n              - img [ref=e145] [cursor=pointer]\\\\n          - listitem [ref=e147]:\\\\n            - link \\\\\"Share on LinkedIn\\\\\" [ref=e148] [cursor=pointer]:\\\\n              - /url: \\\\\"\\\\\\\\n\\\\\\\\t\\\\\\\\t\\\\\\\\t\\\\\\\\t\\\\\\\\t\\\\\\\\t\\\\\\\\t\\\\\\\\t\\\\\\\\thttps://www.linkedin.com/shareArticle?mini=true&url=https%3A%2F%2Fwww.microsoft.com%2Fen-us%2Fresearch%2Fpeople%2Fekzhu&title&summary&source=Microsoft%20Research\\\\\\\\t\\\\\\\\t\\\\\\\\t\\\\\\\\t\\\\\\\\t\\\\\\\\t\\\\\\\\t\\\\\\\\t\\\\\\\\t\\\\\"\\\\n              - generic [ref=e149] [cursor=pointer]: Share on LinkedIn\\\\n              - img [ref=e150] [cursor=pointer]\\\\n          - listitem [ref=e152]:\\\\n            - link \\\\\"Share on Reddit\\\\\" [ref=e153] [cursor=pointer]:\\\\n              - /url: \\\\\"\\\\\\\\n\\\\\\\\t\\\\\\\\t\\\\\\\\t\\\\\\\\t\\\\\\\\t\\\\\\\\t\\\\\\\\t\\\\\\\\t\\\\\\\\thttp://www.reddit.com/submit?title&url=https%3A%2F%2Fwww.microsoft.com%2Fen-us%2Fresearch%2Fpeople%2Fekzhu\\\\\\\\t\\\\\\\\t\\\\\\\\t\\\\\\\\t\\\\\\\\t\\\\\\\\t\\\\\\\\t\\\\\\\\t\\\\\\\\t\\\\\"\\\\n              - generic [ref=e154] [cursor=pointer]: Share on Reddit\\\\n              - img [ref=e155] [cursor=pointer]\\\\n  - contentinfo [ref=e162]:\\\\n    - navigation \\\\\"Footer Resource links\\\\\" [ref=e163]:\\\\n      - generic [ref=e164]:\\\\n        - generic [ref=e165]:\\\\n          - heading \\\\\"What\\'s new\\\\\" [level=2] [ref=e166]\\\\n          - list [ref=e167]:\\\\n            - listitem [ref=e168]:\\\\n              - link \\\\\"Surface Pro What\\'s new\\\\\" [ref=e169] [cursor=pointer]:\\\\n                - /url: https://www.microsoft.com/surface/devices/surface-pro\\\\n                - text: Surface Pro\\\\n            - listitem [ref=e170]:\\\\n              - link \\\\\"Surface Laptop What\\'s new\\\\\" [ref=e171] [cursor=pointer]:\\\\n                - /url: https://www.microsoft.com/surface/devices/surface-laptop\\\\n                - text: Surface Laptop\\\\n            - listitem [ref=e172]:\\\\n              - link \\\\\"Surface Laptop Studio 2 What\\'s new\\\\\" [ref=e173] [cursor=pointer]:\\\\n                - /url: https://www.microsoft.com/en-us/d/Surface-Laptop-Studio-2/8rqr54krf1dz\\\\n                - text: Surface Laptop Studio 2\\\\n            - listitem [ref=e174]:\\\\n              - link \\\\\"Surface Laptop Go 3 What\\'s new\\\\\" [ref=e175] [cursor=pointer]:\\\\n                - /url: https://www.microsoft.com/en-us/d/Surface-Laptop-Go-3/8p0wwgj6c6l2\\\\n                - text: Surface Laptop Go 3\\\\n            - listitem [ref=e176]:\\\\n              - link \\\\\"Microsoft Copilot What\\'s new\\\\\" [ref=e177] [cursor=pointer]:\\\\n                - /url: https://www.microsoft.com/en-us/microsoft-copilot\\\\n                - text: Microsoft Copilot\\\\n            - listitem [ref=e178]:\\\\n              - link \\\\\"AI in Windows What\\'s new\\\\\" [ref=e179] [cursor=pointer]:\\\\n                - /url: https://www.microsoft.com/en-us/windows/copilot-ai-features\\\\n                - text: AI in Windows\\\\n            - listitem [ref=e180]:\\\\n              - link \\\\\"Explore Microsoft products What\\'s new\\\\\" [ref=e181] [cursor=pointer]:\\\\n                - /url: https://www.microsoft.com/en-us/microsoft-products-and-apps\\\\n                - text: Explore Microsoft products\\\\n            - listitem [ref=e182]:\\\\n              - link \\\\\"Windows 11 apps What\\'s new\\\\\" [ref=e183] [cursor=pointer]:\\\\n                - /url: https://www.microsoft.com/windows/windows-11-apps\\\\n                - text: Windows 11 apps\\\\n        - generic [ref=e184]:\\\\n          - heading \\\\\"Microsoft Store\\\\\" [level=2] [ref=e185]\\\\n          - list [ref=e186]:\\\\n            - listitem [ref=e187]:\\\\n              - link \\\\\"Account profile Microsoft Store\\\\\" [ref=e188] [cursor=pointer]:\\\\n                - /url: https://account.microsoft.com/\\\\n                - text: Account profile\\\\n            - listitem [ref=e189]:\\\\n              - link \\\\\"Download Center Microsoft Store\\\\\" [ref=e190] [cursor=pointer]:\\\\n                - /url: https://www.microsoft.com/en-us/download\\\\n                - text: Download Center\\\\n            - listitem [ref=e191]:\\\\n              - link \\\\\"Microsoft Store support Microsoft Store\\\\\" [ref=e192] [cursor=pointer]:\\\\n                - /url: https://go.microsoft.com/fwlink/?linkid=2139749\\\\n                - text: Microsoft Store support\\\\n            - listitem [ref=e193]:\\\\n              - link \\\\\"Returns Microsoft Store\\\\\" [ref=e194] [cursor=pointer]:\\\\n                - /url: https://www.microsoft.com/en-us/store/b/returns\\\\n                - text: Returns\\\\n            - listitem [ref=e195]:\\\\n              - link \\\\\"Order tracking Microsoft Store\\\\\" [ref=e196] [cursor=pointer]:\\\\n                - /url: https://www.microsoft.com/en-us/store/b/order-tracking\\\\n                - text: Order tracking\\\\n            - listitem [ref=e197]:\\\\n              - link \\\\\"Certified Refurbished Microsoft Store\\\\\" [ref=e198] [cursor=pointer]:\\\\n                - /url: https://www.microsoft.com/en-us/store/b/certified-refurbished-products\\\\n                - text: Certified Refurbished\\\\n            - listitem [ref=e199]:\\\\n              - link \\\\\"Microsoft Store Promise Microsoft Store\\\\\" [ref=e200] [cursor=pointer]:\\\\n                - /url: https://www.microsoft.com/en-us/store/b/why-microsoft-store?icid=footer_why-msft-store_7102020\\\\n                - text: Microsoft Store Promise\\\\n            - listitem [ref=e201]:\\\\n              - link \\\\\"Flexible Payments Microsoft Store\\\\\" [ref=e202] [cursor=pointer]:\\\\n                - /url: https://www.microsoft.com/en-us/store/b/payment-financing-options?icid=footer_financing_vcc\\\\n                - text: Flexible Payments\\\\n        - generic [ref=e203]:\\\\n          - heading \\\\\"Education\\\\\" [level=2] [ref=e204]\\\\n          - list [ref=e205]:\\\\n            - listitem [ref=e206]:\\\\n              - link \\\\\"Microsoft in education Education\\\\\" [ref=e207] [cursor=pointer]:\\\\n                - /url: https://www.microsoft.com/en-us/education\\\\n                - text: Microsoft in education\\\\n            - listitem [ref=e208]:\\\\n              - link \\\\\"Devices for education Education\\\\\" [ref=e209] [cursor=pointer]:\\\\n                - /url: https://www.microsoft.com/en-us/education/devices/overview\\\\n                - text: Devices for education\\\\n            - listitem [ref=e210]:\\\\n              - link \\\\\"Microsoft Teams for Education Education\\\\\" [ref=e211] [cursor=pointer]:\\\\n                - /url: https://www.microsoft.com/en-us/education/products/teams\\\\n                - text: Microsoft Teams for Education\\\\n            - listitem [ref=e212]:\\\\n              - link \\\\\"Microsoft 365 Education Education\\\\\" [ref=e213] [cursor=pointer]:\\\\n                - /url: https://www.microsoft.com/en-us/education/products/microsoft-365\\\\n                - text: Microsoft 365 Education\\\\n            - listitem [ref=e214]:\\\\n              - link \\\\\"How to buy for your school Education\\\\\" [ref=e215] [cursor=pointer]:\\\\n                - /url: https://www.microsoft.com/education/how-to-buy\\\\n                - text: How to buy for your school\\\\n            - listitem [ref=e216]:\\\\n              - link \\\\\"Educator training and development Education\\\\\" [ref=e217] [cursor=pointer]:\\\\n                - /url: https://education.microsoft.com/\\\\n                - text: Educator training and development\\\\n            - listitem [ref=e218]:\\\\n              - link \\\\\"Deals for students and parents Education\\\\\" [ref=e219] [cursor=pointer]:\\\\n                - /url: https://www.microsoft.com/en-us/store/b/education\\\\n                - text: Deals for students and parents\\\\n            - listitem [ref=e220]:\\\\n              - link \\\\\"AI for education Education\\\\\" [ref=e221] [cursor=pointer]:\\\\n                - /url: https://www.microsoft.com/en-us/education/ai-in-education\\\\n                - text: AI for education\\\\n      - generic [ref=e222]:\\\\n        - generic [ref=e223]:\\\\n          - heading \\\\\"Business\\\\\" [level=2] [ref=e224]\\\\n          - list [ref=e225]:\\\\n            - listitem [ref=e226]:\\\\n              - link \\\\\"Microsoft Cloud Business\\\\\" [ref=e227] [cursor=pointer]:\\\\n                - /url: https://www.microsoft.com/en-us/microsoft-cloud\\\\n                - text: Microsoft Cloud\\\\n            - listitem [ref=e228]:\\\\n              - link \\\\\"Microsoft Security Business\\\\\" [ref=e229] [cursor=pointer]:\\\\n                - /url: https://www.microsoft.com/en-us/security\\\\n                - text: Microsoft Security\\\\n            - listitem [ref=e230]:\\\\n              - link \\\\\"Dynamics 365 Business\\\\\" [ref=e231] [cursor=pointer]:\\\\n                - /url: https://www.microsoft.com/en-us/dynamics-365\\\\n                - text: Dynamics 365\\\\n            - listitem [ref=e232]:\\\\n              - link \\\\\"Microsoft 365 Business\\\\\" [ref=e233] [cursor=pointer]:\\\\n                - /url: https://www.microsoft.com/en-us/microsoft-365/business\\\\n                - text: Microsoft 365\\\\n            - listitem [ref=e234]:\\\\n              - link \\\\\"Microsoft Power Platform Business\\\\\" [ref=e235] [cursor=pointer]:\\\\n                - /url: https://www.microsoft.com/en-us/power-platform\\\\n                - text: Microsoft Power Platform\\\\n            - listitem [ref=e236]:\\\\n              - link \\\\\"Microsoft Teams Business\\\\\" [ref=e237] [cursor=pointer]:\\\\n                - /url: https://www.microsoft.com/en-us/microsoft-teams/group-chat-software\\\\n                - text: Microsoft Teams\\\\n            - listitem [ref=e238]:\\\\n              - link \\\\\"Microsoft 365 Copilot Business\\\\\" [ref=e239] [cursor=pointer]:\\\\n                - /url: https://www.microsoft.com/en-us/microsoft-365/copilot/copilot-for-work\\\\n                - text: Microsoft 365 Copilot\\\\n            - listitem [ref=e240]:\\\\n              - link \\\\\"Small Business Business\\\\\" [ref=e241] [cursor=pointer]:\\\\n                - /url: https://www.microsoft.com/en-us/store/b/business?icid=CNavBusinessStore\\\\n                - text: Small Business\\\\n        - generic [ref=e242]:\\\\n          - heading \\\\\"Developer & IT\\\\\" [level=2] [ref=e243]\\\\n          - list [ref=e244]:\\\\n            - listitem [ref=e245]:\\\\n              - link \\\\\"Azure Developer & IT\\\\\" [ref=e246] [cursor=pointer]:\\\\n                - /url: https://azure.microsoft.com/en-us/\\\\n                - text: Azure\\\\n            - listitem [ref=e247]:\\\\n              - link \\\\\"Microsoft Developer Developer & IT\\\\\" [ref=e248] [cursor=pointer]:\\\\n                - /url: https://developer.microsoft.com/en-us/\\\\n                - text: Microsoft Developer\\\\n            - listitem [ref=e249]:\\\\n              - link \\\\\"Microsoft Learn Developer & IT\\\\\" [ref=e250] [cursor=pointer]:\\\\n                - /url: https://learn.microsoft.com/\\\\n                - text: Microsoft Learn\\\\n            - listitem [ref=e251]:\\\\n              - link \\\\\"Support for AI marketplace apps Developer & IT\\\\\" [ref=e252] [cursor=pointer]:\\\\n                - /url: https://www.microsoft.com/isv/isv-success?ocid=cmm3atxvn98\\\\n                - text: Support for AI marketplace apps\\\\n            - listitem [ref=e253]:\\\\n              - link \\\\\"Microsoft Tech Community Developer & IT\\\\\" [ref=e254] [cursor=pointer]:\\\\n                - /url: https://techcommunity.microsoft.com/\\\\n                - text: Microsoft Tech Community\\\\n            - listitem [ref=e255]:\\\\n              - link \\\\\"Azure Marketplace Developer & IT\\\\\" [ref=e256] [cursor=pointer]:\\\\n                - /url: https://azuremarketplace.microsoft.com/en-us/\\\\n                - text: Azure Marketplace\\\\n            - listitem [ref=e257]:\\\\n              - link \\\\\"AppSource Developer & IT\\\\\" [ref=e258] [cursor=pointer]:\\\\n                - /url: https://appsource.microsoft.com/en-us/\\\\n                - text: AppSource\\\\n            - listitem [ref=e259]:\\\\n              - link \\\\\"Visual Studio Developer & IT\\\\\" [ref=e260] [cursor=pointer]:\\\\n                - /url: https://visualstudio.microsoft.com/\\\\n                - text: Visual Studio\\\\n        - generic [ref=e261]:\\\\n          - heading \\\\\"Company\\\\\" [level=2] [ref=e262]\\\\n          - list [ref=e263]:\\\\n            - listitem [ref=e264]:\\\\n              - link \\\\\"Careers Company\\\\\" [ref=e265] [cursor=pointer]:\\\\n                - /url: https://careers.microsoft.com/\\\\n                - text: Careers\\\\n            - listitem [ref=e266]:\\\\n              - link \\\\\"About Microsoft Company\\\\\" [ref=e267] [cursor=pointer]:\\\\n                - /url: https://www.microsoft.com/about\\\\n                - text: About Microsoft\\\\n            - listitem [ref=e268]:\\\\n              - link \\\\\"Company news Company\\\\\" [ref=e269] [cursor=pointer]:\\\\n                - /url: https://news.microsoft.com/\\\\n                - text: Company news\\\\n            - listitem [ref=e270]:\\\\n              - link \\\\\"Privacy at Microsoft Company\\\\\" [ref=e271] [cursor=pointer]:\\\\n                - /url: https://privacy.microsoft.com/en-us\\\\n                - text: Privacy at Microsoft\\\\n            - listitem [ref=e272]:\\\\n              - link \\\\\"Investors Company\\\\\" [ref=e273] [cursor=pointer]:\\\\n                - /url: https://www.microsoft.com/investor/default.aspx\\\\n                - text: Investors\\\\n            - listitem [ref=e274]:\\\\n              - link \\\\\"Diversity and inclusion Company\\\\\" [ref=e275] [cursor=pointer]:\\\\n                - /url: https://www.microsoft.com/en-us/diversity/\\\\n                - text: Diversity and inclusion\\\\n            - listitem [ref=e276]:\\\\n              - link \\\\\"Accessibility Company\\\\\" [ref=e277] [cursor=pointer]:\\\\n                - /url: https://www.microsoft.com/en-us/accessibility\\\\n                - text: Accessibility\\\\n            - listitem [ref=e278]:\\\\n              - link \\\\\"Sustainability Company\\\\\" [ref=e279] [cursor=pointer]:\\\\n                - /url: https://www.microsoft.com/en-us/sustainability/\\\\n                - text: Sustainability\\\\n    - generic [ref=e280]:\\\\n      - link \\\\\"Your Privacy Choices Opt-Out Icon Your Privacy Choices\\\\\" [ref=e281] [cursor=pointer]:\\\\n        - /url: https://aka.ms/yourcaliforniaprivacychoices\\\\n        - img \\\\\"Your Privacy Choices Opt-Out Icon\\\\\" [ref=e282] [cursor=pointer]\\\\n        - generic [ref=e287] [cursor=pointer]: Your Privacy Choices\\\\n      - link \\\\\"Consumer Health Privacy\\\\\" [ref=e288] [cursor=pointer]:\\\\n        - /url: https://go.microsoft.com/fwlink/?linkid=2259814\\\\n        - generic [ref=e289] [cursor=pointer]: Consumer Health Privacy\\\\n      - navigation \\\\\"Microsoft corporate links\\\\\" [ref=e290]:\\\\n        - list [ref=e291]:\\\\n          - listitem [ref=e292]:\\\\n            - link \\\\\"Sitemap\\\\\" [ref=e293] [cursor=pointer]:\\\\n              - /url: https://www.microsoft.com/en-us/sitemap1.aspx\\\\n          - listitem [ref=e294]:\\\\n            - link \\\\\"Contact Microsoft\\\\\" [ref=e295] [cursor=pointer]:\\\\n              - /url: https://support.microsoft.com/contactus\\\\n          - listitem [ref=e296]:\\\\n            - link \\\\\"Privacy\\\\\" [ref=e297] [cursor=pointer]:\\\\n              - /url: https://go.microsoft.com/fwlink/?LinkId=521839\\\\n          - listitem [ref=e298]:\\\\n            - link \\\\\"Terms of use\\\\\" [ref=e299] [cursor=pointer]:\\\\n              - /url: https://go.microsoft.com/fwlink/?LinkID=206977\\\\n          - listitem [ref=e300]:\\\\n            - link \\\\\"Trademarks\\\\\" [ref=e301] [cursor=pointer]:\\\\n              - /url: https://go.microsoft.com/fwlink/?linkid=2196228\\\\n          - listitem [ref=e302]:\\\\n            - link \\\\\"Safety & eco\\\\\" [ref=e303] [cursor=pointer]:\\\\n              - /url: https://go.microsoft.com/fwlink/?linkid=2196227\\\\n          - listitem [ref=e304]:\\\\n            - link \\\\\"Recycling\\\\\" [ref=e305] [cursor=pointer]:\\\\n              - /url: https://www.microsoft.com/en-us/legal/compliance/recycling\\\\n          - listitem [ref=e306]:\\\\n            - link \\\\\"About our ads\\\\\" [ref=e307] [cursor=pointer]:\\\\n              - /url: https://choice.microsoft.com\\\\n          - listitem [ref=e308]: \\\\u00a9 Microsoft 2025\\\\n```\", \"annotations\": null, \"meta\": null}]', name='browser_click', call_id='call_XmamsKTgt2L8zTzDEoiNgmFx', is_error=False)]\n",
      "---------- ToolCallSummaryMessage (Assistant) ----------\n",
      "[{\"type\": \"text\", \"text\": \"### Ran Playwright code\\n```js\\n// Click link to Microsoft Research\\nawait page.getByRole('link', { name: 'Microsoft Research' }).click();\\n```\\n\\n### New console messages\\n- [LOG] JQMIGRATE: Migrate is installed with logging active, version 3.0.0 @ https://www.microsoft.com...\\n- [ERROR] Mixed Content: The page at 'https://www.microsoft.com/en-us/research/people/ekzhu/' was load...\\n- [ERROR] Failed to load resource: net::ERR_NAME_NOT_RESOLVED @ https://cdn.clicktale.com/js/www07/ptc...\\n- [ERROR] Failed to load resource: the server responded with a status of 400 () @ https://www.facebook...\\n\\n### Page state\\n- Page URL: https://www.microsoft.com/en-us/research/people/ekzhu/\\n- Page Title: Erkang (Eric) Zhu at Microsoft Research\\n- Page Snapshot:\\n```yaml\\n- generic [active] [ref=e1]:\\n  - generic [ref=e7]:\\n    - link \\\"Skip to main content\\\" [ref=e8] [cursor=pointer]:\\n      - /url: javascript:void(0)\\n    - banner [ref=e9]:\\n      - generic [ref=e11]:\\n        - button \\\"All Microsoft expand to see list of Microsoft products and services\\\" [ref=e12] [cursor=pointer]: \\ue700\\n        - text: \\ue0d5\\n        - link \\\"Microsoft\\\" [ref=e13] [cursor=pointer]:\\n          - /url: https://www.microsoft.com\\n          - img [ref=e14] [cursor=pointer]\\n          - generic [ref=e15] [cursor=pointer]: Microsoft\\n        - text: \\ue76b \\ue76c\\n        - button \\\"Research\\\" [ref=e17] [cursor=pointer]: Research \\ue70d\\n        - text: \\ue70d \\ue70d \\ue70d \\ue70d \\ue70d \\ue70d \\ue70d \\ue70d \\ue70d \\ue70d \\ue70d \\ue70d \\ue70d\\n        - generic [ref=e18]:\\n          - generic: \\ue70d \\ue70d \\ue70d \\ue70d \\ue70d\\n          - search:\\n            - status [ref=e22]\\n            - button \\\"Search Microsoft Research\\\" [ref=e23] [cursor=pointer]: \\ue721\\n  - main [ref=e24]:\\n    - generic [ref=e32]:\\n      - img \\\"Portrait of Erkang (Eric) Zhu\\\" [ref=e35]\\n      - generic [ref=e36]:\\n        - heading \\\"Erkang (Eric) Zhu\\\" [level=1] [ref=e37]\\n        - paragraph [ref=e38]: Principal Researcher\\n    - generic [ref=e39]:\\n      - navigation \\\"Profile navigation\\\" [ref=e40]:\\n        - list [ref=e41]:\\n          - listitem [ref=e42]:\\n            - link \\\"About\\\" [ref=e43] [cursor=pointer]:\\n              - /url: https://www.microsoft.com/en-us/research/people/ekzhu/\\n          - listitem [ref=e44]:\\n            - link \\\"Projects\\\" [ref=e45] [cursor=pointer]:\\n              - /url: https://www.microsoft.com/en-us/research/people/ekzhu/projects/\\n          - listitem [ref=e46]:\\n            - link \\\"Publications\\\" [ref=e47] [cursor=pointer]:\\n              - /url: https://www.microsoft.com/en-us/research/people/ekzhu/publications/\\n      - generic [ref=e49]:\\n        - generic [ref=e51]:\\n          - heading \\\"About\\\" [level=2] [ref=e52]\\n          - paragraph [ref=e53]:\\n            - text: I am currently working on AI agents and serving as a core maintainer of the\\n            - link \\\"AutoGen project (opens in new tab) \\uf6ab\\\" [ref=e54] [cursor=pointer]:\\n              - /url: https://github.com/microsoft/autogen\\n              - text: AutoGen project\\n              - generic [ref=e55] [cursor=pointer]: (opens in new tab)\\n              - text: \\uf6ab\\n            - text: .\\n          - paragraph [ref=e56]:\\n            - text: Visit my homepage at\\n            - link \\\"ekzhu.com (opens in new tab) \\uf6ab\\\" [ref=e57] [cursor=pointer]:\\n              - /url: https://ekzhu.com\\n              - text: ekzhu.com\\n              - generic [ref=e58] [cursor=pointer]: (opens in new tab)\\n              - text: \\uf6ab\\n            - text: .\\n          - generic [ref=e59]: Opens in a new tab\\n        - complementary [ref=e60]:\\n          - generic [ref=e62]:\\n            - heading \\\"Research areas\\\" [level=3] [ref=e63]\\n            - list [ref=e64]:\\n              - listitem [ref=e65]:\\n                - link \\\"Artificial intelligence\\\" [ref=e67] [cursor=pointer]:\\n                  - /url: https://www.microsoft.com/en-us/research/research-area/artificial-intelligence/\\n              - listitem [ref=e68]:\\n                - link \\\"Data platforms and analytics\\\" [ref=e70] [cursor=pointer]:\\n                  - /url: https://www.microsoft.com/en-us/research/research-area/data-platform-analytics?lang=fr_ca/\\n    - generic [ref=e75]:\\n      - generic [ref=e77]:\\n        - heading \\\"Contact Erkang (Eric) Zhu\\\" [level=3] [ref=e78]\\n        - list [ref=e79]:\\n          - listitem [ref=e80]:\\n            - link \\\"Email Link for Erkang (Eric) Zhu\\\" [ref=e82] [cursor=pointer]:\\n              - /url: mailto:ekzhu@microsoft.com\\n              - text: ekzhu@microsoft.com\\n          - listitem [ref=e83]:\\n            - link \\\"Website\\\" [ref=e85] [cursor=pointer]:\\n              - /url: http://ekzhu.com\\n          - listitem [ref=e86]:\\n            - link \\\"Github\\\" [ref=e88] [cursor=pointer]:\\n              - /url: https://github.com/ekzhu\\n      - generic [ref=e90]:\\n        - heading \\\"AI Frontiers\\\" [level=3] [ref=e91]\\n        - link \\\"Learn more about AI Frontiers\\\" [ref=e94] [cursor=pointer]:\\n          - /url: https://www.microsoft.com/en-us/research/lab/ai-frontiers/\\n          - text: Learn more \\ue76c\\n  - region \\\"Social media links\\\" [ref=e96]:\\n    - generic [ref=e98]:\\n      - generic [ref=e100]:\\n        - paragraph [ref=e101]: \\\"Follow us:\\\"\\n        - list \\\"Follow us:\\\" [ref=e102]:\\n          - listitem [ref=e103]:\\n            - link \\\"Follow on X\\\" [ref=e104] [cursor=pointer]:\\n              - /url: \\\"\\\\n\\\\t\\\\t\\\\t\\\\t\\\\t\\\\t\\\\t\\\\t\\\\thttps://x.com/intent/follow?original_referrer&screen_name=MSFTResearch\\\\t\\\\t\\\\t\\\\t\\\\t\\\\t\\\\t\\\\t\\\\t\\\"\\n              - generic [ref=e105] [cursor=pointer]: Follow on X\\n              - img [ref=e106] [cursor=pointer]\\n          - listitem [ref=e108]:\\n            - link \\\"Like on Facebook\\\" [ref=e109] [cursor=pointer]:\\n              - /url: https://www.facebook.com/microsoftresearch/\\n              - generic [ref=e110] [cursor=pointer]: Like on Facebook\\n              - img [ref=e111] [cursor=pointer]\\n          - listitem [ref=e113]:\\n            - link \\\"Follow on LinkedIn\\\" [ref=e114] [cursor=pointer]:\\n              - /url: https://www.linkedin.com/showcase/microsoftresearch/\\n              - generic [ref=e115] [cursor=pointer]: Follow on LinkedIn\\n              - img [ref=e116] [cursor=pointer]\\n          - listitem [ref=e118]:\\n            - link \\\"Subscribe on Youtube\\\" [ref=e119] [cursor=pointer]:\\n              - /url: https://www.youtube.com/user/MicrosoftResearch\\n              - generic [ref=e120] [cursor=pointer]: Subscribe on Youtube\\n              - img [ref=e121] [cursor=pointer]\\n          - listitem [ref=e123]:\\n            - link \\\"Follow on Instagram\\\" [ref=e124] [cursor=pointer]:\\n              - /url: https://www.instagram.com/msft_research/\\n              - generic [ref=e125] [cursor=pointer]: Follow on Instagram\\n              - img [ref=e126] [cursor=pointer]\\n          - listitem [ref=e128]:\\n            - link \\\"Subscribe to our RSS feed\\\" [ref=e129] [cursor=pointer]:\\n              - /url: https://www.microsoft.com/en-us/research/feed/\\n              - generic [ref=e130] [cursor=pointer]: Subscribe to our RSS feed\\n              - img [ref=e131] [cursor=pointer]\\n      - generic [ref=e134]:\\n        - paragraph [ref=e135]: \\\"Share this page:\\\"\\n        - list \\\"Share this page:\\\" [ref=e136]:\\n          - listitem [ref=e137]:\\n            - link \\\"Share on X\\\" [ref=e138] [cursor=pointer]:\\n              - /url: \\\"\\\\n\\\\t\\\\t\\\\t\\\\t\\\\t\\\\t\\\\t\\\\t\\\\thttps://x.com/intent/tweet?text&url=https%3A%2F%2Fwww.microsoft.com%2Fen-us%2Fresearch%2Fpeople%2Fekzhu\\\\t\\\\t\\\\t\\\\t\\\\t\\\\t\\\\t\\\\t\\\\t\\\"\\n              - generic [ref=e139] [cursor=pointer]: Share on X\\n              - img [ref=e140] [cursor=pointer]\\n          - listitem [ref=e142]:\\n            - link \\\"Share on Facebook\\\" [ref=e143] [cursor=pointer]:\\n              - /url: \\\"\\\\n\\\\t\\\\t\\\\t\\\\t\\\\t\\\\t\\\\t\\\\t\\\\thttps://www.facebook.com/sharer/sharer.php?u=https%3A%2F%2Fwww.microsoft.com%2Fen-us%2Fresearch%2Fpeople%2Fekzhu\\\\t\\\\t\\\\t\\\\t\\\\t\\\\t\\\\t\\\\t\\\\t\\\"\\n              - generic [ref=e144] [cursor=pointer]: Share on Facebook\\n              - img [ref=e145] [cursor=pointer]\\n          - listitem [ref=e147]:\\n            - link \\\"Share on LinkedIn\\\" [ref=e148] [cursor=pointer]:\\n              - /url: \\\"\\\\n\\\\t\\\\t\\\\t\\\\t\\\\t\\\\t\\\\t\\\\t\\\\thttps://www.linkedin.com/shareArticle?mini=true&url=https%3A%2F%2Fwww.microsoft.com%2Fen-us%2Fresearch%2Fpeople%2Fekzhu&title&summary&source=Microsoft%20Research\\\\t\\\\t\\\\t\\\\t\\\\t\\\\t\\\\t\\\\t\\\\t\\\"\\n              - generic [ref=e149] [cursor=pointer]: Share on LinkedIn\\n              - img [ref=e150] [cursor=pointer]\\n          - listitem [ref=e152]:\\n            - link \\\"Share on Reddit\\\" [ref=e153] [cursor=pointer]:\\n              - /url: \\\"\\\\n\\\\t\\\\t\\\\t\\\\t\\\\t\\\\t\\\\t\\\\t\\\\thttp://www.reddit.com/submit?title&url=https%3A%2F%2Fwww.microsoft.com%2Fen-us%2Fresearch%2Fpeople%2Fekzhu\\\\t\\\\t\\\\t\\\\t\\\\t\\\\t\\\\t\\\\t\\\\t\\\"\\n              - generic [ref=e154] [cursor=pointer]: Share on Reddit\\n              - img [ref=e155] [cursor=pointer]\\n  - contentinfo [ref=e162]:\\n    - navigation \\\"Footer Resource links\\\" [ref=e163]:\\n      - generic [ref=e164]:\\n        - generic [ref=e165]:\\n          - heading \\\"What's new\\\" [level=2] [ref=e166]\\n          - list [ref=e167]:\\n            - listitem [ref=e168]:\\n              - link \\\"Surface Pro What's new\\\" [ref=e169] [cursor=pointer]:\\n                - /url: https://www.microsoft.com/surface/devices/surface-pro\\n                - text: Surface Pro\\n            - listitem [ref=e170]:\\n              - link \\\"Surface Laptop What's new\\\" [ref=e171] [cursor=pointer]:\\n                - /url: https://www.microsoft.com/surface/devices/surface-laptop\\n                - text: Surface Laptop\\n            - listitem [ref=e172]:\\n              - link \\\"Surface Laptop Studio 2 What's new\\\" [ref=e173] [cursor=pointer]:\\n                - /url: https://www.microsoft.com/en-us/d/Surface-Laptop-Studio-2/8rqr54krf1dz\\n                - text: Surface Laptop Studio 2\\n            - listitem [ref=e174]:\\n              - link \\\"Surface Laptop Go 3 What's new\\\" [ref=e175] [cursor=pointer]:\\n                - /url: https://www.microsoft.com/en-us/d/Surface-Laptop-Go-3/8p0wwgj6c6l2\\n                - text: Surface Laptop Go 3\\n            - listitem [ref=e176]:\\n              - link \\\"Microsoft Copilot What's new\\\" [ref=e177] [cursor=pointer]:\\n                - /url: https://www.microsoft.com/en-us/microsoft-copilot\\n                - text: Microsoft Copilot\\n            - listitem [ref=e178]:\\n              - link \\\"AI in Windows What's new\\\" [ref=e179] [cursor=pointer]:\\n                - /url: https://www.microsoft.com/en-us/windows/copilot-ai-features\\n                - text: AI in Windows\\n            - listitem [ref=e180]:\\n              - link \\\"Explore Microsoft products What's new\\\" [ref=e181] [cursor=pointer]:\\n                - /url: https://www.microsoft.com/en-us/microsoft-products-and-apps\\n                - text: Explore Microsoft products\\n            - listitem [ref=e182]:\\n              - link \\\"Windows 11 apps What's new\\\" [ref=e183] [cursor=pointer]:\\n                - /url: https://www.microsoft.com/windows/windows-11-apps\\n                - text: Windows 11 apps\\n        - generic [ref=e184]:\\n          - heading \\\"Microsoft Store\\\" [level=2] [ref=e185]\\n          - list [ref=e186]:\\n            - listitem [ref=e187]:\\n              - link \\\"Account profile Microsoft Store\\\" [ref=e188] [cursor=pointer]:\\n                - /url: https://account.microsoft.com/\\n                - text: Account profile\\n            - listitem [ref=e189]:\\n              - link \\\"Download Center Microsoft Store\\\" [ref=e190] [cursor=pointer]:\\n                - /url: https://www.microsoft.com/en-us/download\\n                - text: Download Center\\n            - listitem [ref=e191]:\\n              - link \\\"Microsoft Store support Microsoft Store\\\" [ref=e192] [cursor=pointer]:\\n                - /url: https://go.microsoft.com/fwlink/?linkid=2139749\\n                - text: Microsoft Store support\\n            - listitem [ref=e193]:\\n              - link \\\"Returns Microsoft Store\\\" [ref=e194] [cursor=pointer]:\\n                - /url: https://www.microsoft.com/en-us/store/b/returns\\n                - text: Returns\\n            - listitem [ref=e195]:\\n              - link \\\"Order tracking Microsoft Store\\\" [ref=e196] [cursor=pointer]:\\n                - /url: https://www.microsoft.com/en-us/store/b/order-tracking\\n                - text: Order tracking\\n            - listitem [ref=e197]:\\n              - link \\\"Certified Refurbished Microsoft Store\\\" [ref=e198] [cursor=pointer]:\\n                - /url: https://www.microsoft.com/en-us/store/b/certified-refurbished-products\\n                - text: Certified Refurbished\\n            - listitem [ref=e199]:\\n              - link \\\"Microsoft Store Promise Microsoft Store\\\" [ref=e200] [cursor=pointer]:\\n                - /url: https://www.microsoft.com/en-us/store/b/why-microsoft-store?icid=footer_why-msft-store_7102020\\n                - text: Microsoft Store Promise\\n            - listitem [ref=e201]:\\n              - link \\\"Flexible Payments Microsoft Store\\\" [ref=e202] [cursor=pointer]:\\n                - /url: https://www.microsoft.com/en-us/store/b/payment-financing-options?icid=footer_financing_vcc\\n                - text: Flexible Payments\\n        - generic [ref=e203]:\\n          - heading \\\"Education\\\" [level=2] [ref=e204]\\n          - list [ref=e205]:\\n            - listitem [ref=e206]:\\n              - link \\\"Microsoft in education Education\\\" [ref=e207] [cursor=pointer]:\\n                - /url: https://www.microsoft.com/en-us/education\\n                - text: Microsoft in education\\n            - listitem [ref=e208]:\\n              - link \\\"Devices for education Education\\\" [ref=e209] [cursor=pointer]:\\n                - /url: https://www.microsoft.com/en-us/education/devices/overview\\n                - text: Devices for education\\n            - listitem [ref=e210]:\\n              - link \\\"Microsoft Teams for Education Education\\\" [ref=e211] [cursor=pointer]:\\n                - /url: https://www.microsoft.com/en-us/education/products/teams\\n                - text: Microsoft Teams for Education\\n            - listitem [ref=e212]:\\n              - link \\\"Microsoft 365 Education Education\\\" [ref=e213] [cursor=pointer]:\\n                - /url: https://www.microsoft.com/en-us/education/products/microsoft-365\\n                - text: Microsoft 365 Education\\n            - listitem [ref=e214]:\\n              - link \\\"How to buy for your school Education\\\" [ref=e215] [cursor=pointer]:\\n                - /url: https://www.microsoft.com/education/how-to-buy\\n                - text: How to buy for your school\\n            - listitem [ref=e216]:\\n              - link \\\"Educator training and development Education\\\" [ref=e217] [cursor=pointer]:\\n                - /url: https://education.microsoft.com/\\n                - text: Educator training and development\\n            - listitem [ref=e218]:\\n              - link \\\"Deals for students and parents Education\\\" [ref=e219] [cursor=pointer]:\\n                - /url: https://www.microsoft.com/en-us/store/b/education\\n                - text: Deals for students and parents\\n            - listitem [ref=e220]:\\n              - link \\\"AI for education Education\\\" [ref=e221] [cursor=pointer]:\\n                - /url: https://www.microsoft.com/en-us/education/ai-in-education\\n                - text: AI for education\\n      - generic [ref=e222]:\\n        - generic [ref=e223]:\\n          - heading \\\"Business\\\" [level=2] [ref=e224]\\n          - list [ref=e225]:\\n            - listitem [ref=e226]:\\n              - link \\\"Microsoft Cloud Business\\\" [ref=e227] [cursor=pointer]:\\n                - /url: https://www.microsoft.com/en-us/microsoft-cloud\\n                - text: Microsoft Cloud\\n            - listitem [ref=e228]:\\n              - link \\\"Microsoft Security Business\\\" [ref=e229] [cursor=pointer]:\\n                - /url: https://www.microsoft.com/en-us/security\\n                - text: Microsoft Security\\n            - listitem [ref=e230]:\\n              - link \\\"Dynamics 365 Business\\\" [ref=e231] [cursor=pointer]:\\n                - /url: https://www.microsoft.com/en-us/dynamics-365\\n                - text: Dynamics 365\\n            - listitem [ref=e232]:\\n              - link \\\"Microsoft 365 Business\\\" [ref=e233] [cursor=pointer]:\\n                - /url: https://www.microsoft.com/en-us/microsoft-365/business\\n                - text: Microsoft 365\\n            - listitem [ref=e234]:\\n              - link \\\"Microsoft Power Platform Business\\\" [ref=e235] [cursor=pointer]:\\n                - /url: https://www.microsoft.com/en-us/power-platform\\n                - text: Microsoft Power Platform\\n            - listitem [ref=e236]:\\n              - link \\\"Microsoft Teams Business\\\" [ref=e237] [cursor=pointer]:\\n                - /url: https://www.microsoft.com/en-us/microsoft-teams/group-chat-software\\n                - text: Microsoft Teams\\n            - listitem [ref=e238]:\\n              - link \\\"Microsoft 365 Copilot Business\\\" [ref=e239] [cursor=pointer]:\\n                - /url: https://www.microsoft.com/en-us/microsoft-365/copilot/copilot-for-work\\n                - text: Microsoft 365 Copilot\\n            - listitem [ref=e240]:\\n              - link \\\"Small Business Business\\\" [ref=e241] [cursor=pointer]:\\n                - /url: https://www.microsoft.com/en-us/store/b/business?icid=CNavBusinessStore\\n                - text: Small Business\\n        - generic [ref=e242]:\\n          - heading \\\"Developer & IT\\\" [level=2] [ref=e243]\\n          - list [ref=e244]:\\n            - listitem [ref=e245]:\\n              - link \\\"Azure Developer & IT\\\" [ref=e246] [cursor=pointer]:\\n                - /url: https://azure.microsoft.com/en-us/\\n                - text: Azure\\n            - listitem [ref=e247]:\\n              - link \\\"Microsoft Developer Developer & IT\\\" [ref=e248] [cursor=pointer]:\\n                - /url: https://developer.microsoft.com/en-us/\\n                - text: Microsoft Developer\\n            - listitem [ref=e249]:\\n              - link \\\"Microsoft Learn Developer & IT\\\" [ref=e250] [cursor=pointer]:\\n                - /url: https://learn.microsoft.com/\\n                - text: Microsoft Learn\\n            - listitem [ref=e251]:\\n              - link \\\"Support for AI marketplace apps Developer & IT\\\" [ref=e252] [cursor=pointer]:\\n                - /url: https://www.microsoft.com/isv/isv-success?ocid=cmm3atxvn98\\n                - text: Support for AI marketplace apps\\n            - listitem [ref=e253]:\\n              - link \\\"Microsoft Tech Community Developer & IT\\\" [ref=e254] [cursor=pointer]:\\n                - /url: https://techcommunity.microsoft.com/\\n                - text: Microsoft Tech Community\\n            - listitem [ref=e255]:\\n              - link \\\"Azure Marketplace Developer & IT\\\" [ref=e256] [cursor=pointer]:\\n                - /url: https://azuremarketplace.microsoft.com/en-us/\\n                - text: Azure Marketplace\\n            - listitem [ref=e257]:\\n              - link \\\"AppSource Developer & IT\\\" [ref=e258] [cursor=pointer]:\\n                - /url: https://appsource.microsoft.com/en-us/\\n                - text: AppSource\\n            - listitem [ref=e259]:\\n              - link \\\"Visual Studio Developer & IT\\\" [ref=e260] [cursor=pointer]:\\n                - /url: https://visualstudio.microsoft.com/\\n                - text: Visual Studio\\n        - generic [ref=e261]:\\n          - heading \\\"Company\\\" [level=2] [ref=e262]\\n          - list [ref=e263]:\\n            - listitem [ref=e264]:\\n              - link \\\"Careers Company\\\" [ref=e265] [cursor=pointer]:\\n                - /url: https://careers.microsoft.com/\\n                - text: Careers\\n            - listitem [ref=e266]:\\n              - link \\\"About Microsoft Company\\\" [ref=e267] [cursor=pointer]:\\n                - /url: https://www.microsoft.com/about\\n                - text: About Microsoft\\n            - listitem [ref=e268]:\\n              - link \\\"Company news Company\\\" [ref=e269] [cursor=pointer]:\\n                - /url: https://news.microsoft.com/\\n                - text: Company news\\n            - listitem [ref=e270]:\\n              - link \\\"Privacy at Microsoft Company\\\" [ref=e271] [cursor=pointer]:\\n                - /url: https://privacy.microsoft.com/en-us\\n                - text: Privacy at Microsoft\\n            - listitem [ref=e272]:\\n              - link \\\"Investors Company\\\" [ref=e273] [cursor=pointer]:\\n                - /url: https://www.microsoft.com/investor/default.aspx\\n                - text: Investors\\n            - listitem [ref=e274]:\\n              - link \\\"Diversity and inclusion Company\\\" [ref=e275] [cursor=pointer]:\\n                - /url: https://www.microsoft.com/en-us/diversity/\\n                - text: Diversity and inclusion\\n            - listitem [ref=e276]:\\n              - link \\\"Accessibility Company\\\" [ref=e277] [cursor=pointer]:\\n                - /url: https://www.microsoft.com/en-us/accessibility\\n                - text: Accessibility\\n            - listitem [ref=e278]:\\n              - link \\\"Sustainability Company\\\" [ref=e279] [cursor=pointer]:\\n                - /url: https://www.microsoft.com/en-us/sustainability/\\n                - text: Sustainability\\n    - generic [ref=e280]:\\n      - link \\\"Your Privacy Choices Opt-Out Icon Your Privacy Choices\\\" [ref=e281] [cursor=pointer]:\\n        - /url: https://aka.ms/yourcaliforniaprivacychoices\\n        - img \\\"Your Privacy Choices Opt-Out Icon\\\" [ref=e282] [cursor=pointer]\\n        - generic [ref=e287] [cursor=pointer]: Your Privacy Choices\\n      - link \\\"Consumer Health Privacy\\\" [ref=e288] [cursor=pointer]:\\n        - /url: https://go.microsoft.com/fwlink/?linkid=2259814\\n        - generic [ref=e289] [cursor=pointer]: Consumer Health Privacy\\n      - navigation \\\"Microsoft corporate links\\\" [ref=e290]:\\n        - list [ref=e291]:\\n          - listitem [ref=e292]:\\n            - link \\\"Sitemap\\\" [ref=e293] [cursor=pointer]:\\n              - /url: https://www.microsoft.com/en-us/sitemap1.aspx\\n          - listitem [ref=e294]:\\n            - link \\\"Contact Microsoft\\\" [ref=e295] [cursor=pointer]:\\n              - /url: https://support.microsoft.com/contactus\\n          - listitem [ref=e296]:\\n            - link \\\"Privacy\\\" [ref=e297] [cursor=pointer]:\\n              - /url: https://go.microsoft.com/fwlink/?LinkId=521839\\n          - listitem [ref=e298]:\\n            - link \\\"Terms of use\\\" [ref=e299] [cursor=pointer]:\\n              - /url: https://go.microsoft.com/fwlink/?LinkID=206977\\n          - listitem [ref=e300]:\\n            - link \\\"Trademarks\\\" [ref=e301] [cursor=pointer]:\\n              - /url: https://go.microsoft.com/fwlink/?linkid=2196228\\n          - listitem [ref=e302]:\\n            - link \\\"Safety & eco\\\" [ref=e303] [cursor=pointer]:\\n              - /url: https://go.microsoft.com/fwlink/?linkid=2196227\\n          - listitem [ref=e304]:\\n            - link \\\"Recycling\\\" [ref=e305] [cursor=pointer]:\\n              - /url: https://www.microsoft.com/en-us/legal/compliance/recycling\\n          - listitem [ref=e306]:\\n            - link \\\"About our ads\\\" [ref=e307] [cursor=pointer]:\\n              - /url: https://choice.microsoft.com\\n          - listitem [ref=e308]: \\u00a9 Microsoft 2025\\n```\", \"annotations\": null, \"meta\": null}]\n",
      "---------- TextMessage (Assistant) ----------\n",
      "The linked page you've navigated to is titled \"Erkang (Eric) Zhu at Microsoft Research\" and is part of the Microsoft Research website. Here, Erkang (Eric) Zhu is introduced as a Principal Researcher focusing on AI agents. The page includes sections about his projects, publications, and research areas, such as artificial intelligence and data platforms and analytics. Additionally, there are links to his website, GitHub, and contact information.\n",
      "\n",
      "TERMINATE\n"
     ]
    }
   ],
   "source": [
    "from autogen_agentchat.agents import AssistantAgent\n",
    "from autogen_agentchat.conditions import TextMentionTermination\n",
    "from autogen_agentchat.teams import RoundRobinGroupChat\n",
    "from autogen_agentchat.ui import Console\n",
    "from autogen_ext.models.openai import OpenAIChatCompletionClient\n",
    "from autogen_ext.tools.mcp import StdioServerParams, create_mcp_server_session, mcp_server_tools\n",
    "\n",
    "\n",
    "async def main() -> None:\n",
    "    model_client = OpenAIChatCompletionClient(model=\"gpt-4o\", parallel_tool_calls=False)  # type: ignore\n",
    "    params = StdioServerParams(\n",
    "        command=\"npx\",\n",
    "        args=[\"@playwright/mcp@latest\"],\n",
    "        read_timeout_seconds=60,\n",
    "    )\n",
    "    async with create_mcp_server_session(params) as session:\n",
    "        await session.initialize()\n",
    "        tools = await mcp_server_tools(server_params=params, session=session)\n",
    "        print(f\"Tools: {[tool.name for tool in tools]}\")\n",
    "\n",
    "        agent = AssistantAgent(\n",
    "            name=\"Assistant\",\n",
    "            model_client=model_client,\n",
    "            tools=tools,  # type: ignore\n",
    "        )\n",
    "\n",
    "        termination = TextMentionTermination(\"TERMINATE\")\n",
    "        team = RoundRobinGroupChat([agent], termination_condition=termination)\n",
    "        await Console(\n",
    "            team.run_stream(\n",
    "                task=\"Go to https://ekzhu.com/, visit the first link in the page, then tell me about the linked page.\"\n",
    "            )\n",
    "        )\n",
    "\n",
    "\n",
    "await main()"
   ]
  },
  {
   "cell_type": "code",
   "execution_count": 7,
   "id": "e6ea15b3",
   "metadata": {},
   "outputs": [
    {
     "name": "stdout",
     "output_type": "stream",
     "text": [
      "110.93066093655943\n"
     ]
    }
   ],
   "source": [
    "import random\n",
    "from autogen_core.tools import FunctionTool\n",
    "from autogen_agentchat.agents import AssistantAgent\n",
    "from autogen_ext.models.openai import OpenAIChatCompletionClient\n",
    "from typing_extensions import Annotated\n",
    "from autogen_core import CancellationToken\n",
    "\n",
    "async def get_stock_price(ticker: str, date: Annotated[str, \"Date in YYYY/MM/DD\"]) -> float:\n",
    "    # Returns a random stock price for demonstration purposes.\n",
    "    return random.uniform(10, 200)\n",
    "\n",
    "\n",
    "# Create a function tool.\n",
    "stock_price_tool = FunctionTool(get_stock_price, description=\"Get the stock price.\")\n",
    "\n",
    "# Run the tool.\n",
    "cancellation_token = CancellationToken()\n",
    "result = await stock_price_tool.run_json({\"ticker\": \"AAPL\", \"date\": \"2021/01/01\"}, cancellation_token)\n",
    "\n",
    "# Print the result.\n",
    "print(stock_price_tool.return_value_as_string(result))"
   ]
  },
  {
   "cell_type": "code",
   "execution_count": 8,
   "id": "8d6519f4",
   "metadata": {},
   "outputs": [
    {
     "data": {
      "text/plain": [
       "{'name': 'get_stock_price',\n",
       " 'description': 'Get the stock price.',\n",
       " 'parameters': {'type': 'object',\n",
       "  'properties': {'ticker': {'description': 'ticker',\n",
       "    'title': 'Ticker',\n",
       "    'type': 'string'},\n",
       "   'date': {'description': 'Date in YYYY/MM/DD',\n",
       "    'title': 'Date',\n",
       "    'type': 'string'}},\n",
       "  'required': ['ticker', 'date'],\n",
       "  'additionalProperties': False},\n",
       " 'strict': False}"
      ]
     },
     "execution_count": 8,
     "metadata": {},
     "output_type": "execute_result"
    }
   ],
   "source": [
    "stock_price_tool.schema"
   ]
  },
  {
   "cell_type": "code",
   "execution_count": 13,
   "id": "e3934b2f",
   "metadata": {},
   "outputs": [
    {
     "data": {
      "text/plain": [
       "[FunctionCall(id='call_HJBJ57PV2Fuxe8fJ3vqs3wt7', arguments='{\"ticker\":\"AAPL\",\"date\":\"2021/01/01\"}', name='get_stock_price')]"
      ]
     },
     "execution_count": 13,
     "metadata": {},
     "output_type": "execute_result"
    }
   ],
   "source": [
    "import json\n",
    "\n",
    "from autogen_core.models import AssistantMessage, FunctionExecutionResult, FunctionExecutionResultMessage, UserMessage\n",
    "from autogen_ext.models.openai import OpenAIChatCompletionClient\n",
    "\n",
    "# Create the OpenAI chat completion client. Using OPENAI_API_KEY from environment variable.\n",
    "model_client = OpenAIChatCompletionClient(model=\"gpt-4o-mini\")\n",
    "\n",
    "# Create a user message.\n",
    "user_message = UserMessage(content=\"What is the stock price of AAPL on 2021/01/01?\", source=\"user\")\n",
    "\n",
    "# Run the chat completion with the stock_price_tool defined above.\n",
    "cancellation_token = CancellationToken()\n",
    "create_result = await model_client.create(\n",
    "    messages=[user_message], tools=[stock_price_tool], cancellation_token=cancellation_token\n",
    ")\n",
    "create_result.content"
   ]
  },
  {
   "cell_type": "code",
   "execution_count": 14,
   "id": "0ad4e73a",
   "metadata": {},
   "outputs": [
    {
     "data": {
      "text/plain": [
       "'33.62630764304819'"
      ]
     },
     "execution_count": 14,
     "metadata": {},
     "output_type": "execute_result"
    }
   ],
   "source": [
    "assert isinstance(create_result.content, list)\n",
    "arguments = json.loads(create_result.content[0].arguments)  # type: ignore\n",
    "tool_result = await stock_price_tool.run_json(arguments, cancellation_token)\n",
    "tool_result_str = stock_price_tool.return_value_as_string(tool_result)\n",
    "tool_result_str"
   ]
  },
  {
   "cell_type": "code",
   "execution_count": 15,
   "id": "2ce8e02f",
   "metadata": {},
   "outputs": [
    {
     "name": "stdout",
     "output_type": "stream",
     "text": [
      "The stock price of AAPL (Apple Inc.) on January 1, 2021, was approximately $33.63. Please note that this price may be adjusted for stock splits and dividends, reflecting its value per share at that time.\n"
     ]
    }
   ],
   "source": [
    "exec_result = FunctionExecutionResult(\n",
    "    content=tool_result_str,\n",
    "    call_id=create_result.content[0].id,  # type: ignore\n",
    "    name=stock_price_tool.name,)\n",
    "\n",
    "messages = [\n",
    "    user_message,\n",
    "    AssistantMessage(content=create_result.content, source='assistant'),\n",
    "    FunctionExecutionResultMessage(\n",
    "        content=[exec_result]\n",
    "    )\n",
    "]\n",
    "\n",
    "create_result = await model_client.create(messages=messages, cancellation_token=cancellation_token)\n",
    "print(create_result.content)\n",
    "await model_client.close()"
   ]
  },
  {
   "cell_type": "code",
   "execution_count": 16,
   "id": "3e0877c6",
   "metadata": {},
   "outputs": [],
   "source": [
    "import asyncio\n",
    "import json\n",
    "from dataclasses import dataclass\n",
    "from typing import List\n",
    "\n",
    "from autogen_core import (\n",
    "    AgentId,\n",
    "    FunctionCall,\n",
    "    MessageContext,\n",
    "    RoutedAgent,\n",
    "    SingleThreadedAgentRuntime,\n",
    "    message_handler,\n",
    ")\n",
    "from autogen_core.models import (\n",
    "    ChatCompletionClient,\n",
    "    LLMMessage,\n",
    "    SystemMessage,\n",
    "    UserMessage,\n",
    ")\n",
    "from autogen_core.tools import FunctionTool, Tool\n",
    "from autogen_ext.models.openai import OpenAIChatCompletionClient\n",
    "\n",
    "\n",
    "@dataclass\n",
    "class Message:\n",
    "    content: str\n",
    "\n",
    "\n",
    "class ToolUseAgent(RoutedAgent):\n",
    "    def __init__(self, model_client: ChatCompletionClient, tool_schema: List[Tool]) -> None:\n",
    "        super().__init__(\"An agent with tools\")\n",
    "        self._system_messages: List[LLMMessage] = [SystemMessage(content=\"You are a helpful AI assistant.\")]\n",
    "        self._model_client = model_client\n",
    "        self._tools = tool_schema\n",
    "\n",
    "    @message_handler\n",
    "    async def handle_user_message(self, message: Message, ctx: MessageContext) -> Message:\n",
    "        # Create a session of messages.\n",
    "        session: List[LLMMessage] = self._system_messages + [UserMessage(content=message.content, source=\"user\")]\n",
    "\n",
    "        # Run the chat completion with the tools.\n",
    "        create_result = await self._model_client.create(\n",
    "            messages=session,\n",
    "            tools=self._tools,\n",
    "            cancellation_token=ctx.cancellation_token,\n",
    "        )\n",
    "\n",
    "        # If there are no tool calls, return the result.\n",
    "        if isinstance(create_result.content, str):\n",
    "            return Message(content=create_result.content)\n",
    "        assert isinstance(create_result.content, list) and all(\n",
    "            isinstance(call, FunctionCall) for call in create_result.content\n",
    "        )\n",
    "\n",
    "        # Add the first model create result to the session.\n",
    "        session.append(AssistantMessage(content=create_result.content, source=\"assistant\"))\n",
    "\n",
    "        # Execute the tool calls.\n",
    "        results = await asyncio.gather(\n",
    "            *[self._execute_tool_call(call, ctx.cancellation_token) for call in create_result.content]\n",
    "        )\n",
    "\n",
    "        # Add the function execution results to the session.\n",
    "        session.append(FunctionExecutionResultMessage(content=results))\n",
    "\n",
    "        # Run the chat completion again to reflect on the history and function execution results.\n",
    "        create_result = await self._model_client.create(\n",
    "            messages=session,\n",
    "            cancellation_token=ctx.cancellation_token,\n",
    "        )\n",
    "        assert isinstance(create_result.content, str)\n",
    "\n",
    "        # Return the result as a message.\n",
    "        return Message(content=create_result.content)\n",
    "\n",
    "    async def _execute_tool_call(\n",
    "        self, call: FunctionCall, cancellation_token: CancellationToken\n",
    "    ) -> FunctionExecutionResult:\n",
    "        # Find the tool by name.\n",
    "        tool = next((tool for tool in self._tools if tool.name == call.name), None)\n",
    "        assert tool is not None\n",
    "\n",
    "        # Run the tool and capture the result.\n",
    "        try:\n",
    "            arguments = json.loads(call.arguments)\n",
    "            result = await tool.run_json(arguments, cancellation_token)\n",
    "            return FunctionExecutionResult(\n",
    "                call_id=call.id, content=tool.return_value_as_string(result), is_error=False, name=tool.name\n",
    "            )\n",
    "        except Exception as e:\n",
    "            return FunctionExecutionResult(call_id=call.id, content=str(e), is_error=True, name=tool.name)\n"
   ]
  },
  {
   "cell_type": "code",
   "execution_count": 18,
   "id": "f5027746",
   "metadata": {},
   "outputs": [
    {
     "name": "stdout",
     "output_type": "stream",
     "text": [
      "The stock price of AAPL (Apple Inc.) on January 1, 2021, was approximately $125.01.\n"
     ]
    }
   ],
   "source": [
    "model_client = OpenAIChatCompletionClient(model=\"gpt-4o-mini\")\n",
    "\n",
    "\n",
    "runtime = SingleThreadedAgentRuntime()\n",
    "tools: List[Tool] = [FunctionTool(get_stock_price, description=\"Get the stock price.\")]\n",
    "await ToolUseAgent.register(\n",
    "    runtime,\n",
    "    type='tool_use_agent',\n",
    "    factory=lambda: ToolUseAgent(model_client=model_client, tool_schema=tools)\n",
    ")\n",
    "\n",
    "runtime.start()\n",
    "tool_use_agent = AgentId(\"tool_use_agent\", \"default\")\n",
    "result = await runtime.send_message(message=Message(content=\"What is the stock price of AAPL on 2021/01/01?\"), recipient=tool_use_agent)\n",
    "print(result.content)\n",
    "await runtime.close()\n",
    "await model_client.close()"
   ]
  },
  {
   "cell_type": "code",
   "execution_count": null,
   "id": "b0c339a1",
   "metadata": {},
   "outputs": [],
   "source": []
  }
 ],
 "metadata": {
  "language_info": {
   "name": "python"
  }
 },
 "nbformat": 4,
 "nbformat_minor": 5
}
