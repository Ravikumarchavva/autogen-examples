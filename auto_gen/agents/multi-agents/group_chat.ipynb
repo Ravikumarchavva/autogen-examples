{
 "cells": [
  {
   "cell_type": "code",
   "execution_count": 16,
   "id": "55be2f22",
   "metadata": {},
   "outputs": [
    {
     "data": {
      "text/plain": [
       "True"
      ]
     },
     "execution_count": 16,
     "metadata": {},
     "output_type": "execute_result"
    }
   ],
   "source": [
    "import json\n",
    "import string\n",
    "from typing import List\n",
    "from dataclasses import dataclass\n",
    "import uuid\n",
    "\n",
    "import openai\n",
    "from autogen_core import (\n",
    "    RoutedAgent,\n",
    "    SingleThreadedAgentRuntime,\n",
    "    TopicId,\n",
    "    DefaultTopicId,\n",
    "    FunctionCall,\n",
    "    Image,\n",
    "    MessageContext,\n",
    "    TypeSubscription,\n",
    "    message_handler,\n",
    "    type_subscription,\n",
    ")\n",
    "from autogen_core.models import ChatCompletionClient, SystemMessage, UserMessage, AssistantMessage, LLMMessage\n",
    "from autogen_core.tools import  FunctionTool\n",
    "from autogen_ext.models.openai import OpenAIChatCompletionClient\n",
    "\n",
    "from IPython.display import display, Markdown\n",
    "from pydantic import BaseModel\n",
    "from dotenv import load_dotenv\n",
    "load_dotenv()"
   ]
  },
  {
   "cell_type": "code",
   "execution_count": 17,
   "id": "ba024a00",
   "metadata": {},
   "outputs": [],
   "source": [
    "class GroupChatMessage(BaseModel):\n",
    "    body: UserMessage\n",
    "\n",
    "class RequestToSpeak(BaseModel):\n",
    "    pass"
   ]
  },
  {
   "cell_type": "markdown",
   "id": "39c20e0c",
   "metadata": {},
   "source": [
    "# Base"
   ]
  },
  {
   "cell_type": "code",
   "execution_count": 18,
   "id": "49685332",
   "metadata": {},
   "outputs": [],
   "source": [
    "class BaseGroupChatAgent(RoutedAgent):\n",
    "    def __init__(self, description: str, group_chat_topic_type: str, model_client: ChatCompletionClient, system_message: str, topic_id: TopicId = DefaultTopicId(\"group_chat\")):\n",
    "        super().__init__(description=description)\n",
    "        self._group_chat_topic_type = group_chat_topic_type\n",
    "        self._topic_id = topic_id\n",
    "        self._model_client = model_client\n",
    "        self._system_message = SystemMessage(content=system_message)\n",
    "        self._chat_history: List[LLMMessage] = []\n",
    "\n",
    "    @message_handler\n",
    "    async def handle_message(self, message: GroupChatMessage, context: MessageContext) -> None:\n",
    "        self._chat_history.extend([\n",
    "            UserMessage(content=f\"Transferred to {message.body.source}\", source='system'),\n",
    "            message.body,\n",
    "        ])\n",
    "\n",
    "    @message_handler\n",
    "    async def handle_request_to_speak(self, message: RequestToSpeak, context: MessageContext) -> None:\n",
    "        display(Markdown(f\"### {self.id.type}\"))\n",
    "        self._chat_history.append(UserMessage(content=f\"Transferred to {self.id.type}, adopt the persona immediately.\", source=\"system\"))\n",
    "\n",
    "        completion = await self._model_client.create(messages=[self._system_message] + self._chat_history)\n",
    "        self._chat_history.append(AssistantMessage(content=completion.content, source=self.id.type))\n",
    "        assert isinstance(completion.content, str), \"Completion content must be a string\"\n",
    "\n",
    "        display(Markdown(f\"#### {self.id.type} Response\"))\n",
    "        display(Markdown(completion.content))\n",
    "\n",
    "        await self.publish_message(\n",
    "            GroupChatMessage(body=UserMessage(content=completion.content, source=self.id.type)),\n",
    "            topic_id=TopicId(self._group_chat_topic_type, self.id.type)\n",
    "        )"
   ]
  },
  {
   "cell_type": "markdown",
   "id": "c0adcbf2",
   "metadata": {},
   "source": [
    "# Editor and Writer"
   ]
  },
  {
   "cell_type": "code",
   "execution_count": 19,
   "id": "1861d5cc",
   "metadata": {},
   "outputs": [],
   "source": [
    "class WriterAgent(BaseGroupChatAgent):\n",
    "    def __init__(self, description: str, group_chat_topic_type: str, model_client: ChatCompletionClient):\n",
    "        super().__init__(\n",
    "            description=description,\n",
    "            group_chat_topic_type=group_chat_topic_type,\n",
    "            model_client=model_client,\n",
    "            system_message=\"You are a Writer. You produce good work.\",\n",
    "        )\n",
    "\n",
    "class EditorAgent(BaseGroupChatAgent):\n",
    "    def __init__(self, description: str, group_chat_topic_type: str, model_client: ChatCompletionClient):\n",
    "        super().__init__(\n",
    "            description=description,\n",
    "            group_chat_topic_type=group_chat_topic_type,\n",
    "            model_client=model_client,\n",
    "            system_message=\"You are an Editor. Plan and guide the task given by the user. Provide critical feedbacks to the draft and illustration produced by Writer and Illustrator. \"\n",
    "            \"Approve if the task is completed and the draft and illustration meets user's requirements.\",\n",
    "        )"
   ]
  },
  {
   "cell_type": "markdown",
   "id": "ccc16107",
   "metadata": {},
   "source": [
    "# Illustraror agent with image generation capabilities"
   ]
  },
  {
   "cell_type": "code",
   "execution_count": 20,
   "id": "177baac4",
   "metadata": {},
   "outputs": [],
   "source": [
    "class IllustratorAgent(BaseGroupChatAgent):\n",
    "    def __init__(\n",
    "        self,\n",
    "        description: str,\n",
    "        group_chat_topic_type: str,\n",
    "        model_client: ChatCompletionClient,\n",
    "        image_client: openai.AsyncClient,\n",
    "    ) -> None:\n",
    "        super().__init__(\n",
    "            description=description,\n",
    "            group_chat_topic_type=group_chat_topic_type,\n",
    "            model_client=model_client,\n",
    "            system_message=\"You are an Illustrator. You use the generate_image tool to create images given user's requirement. \"\n",
    "            \"Make sure the images have consistent characters and style.\",\n",
    "        )\n",
    "        self._image_client = image_client\n",
    "        self._image_gen_tool = FunctionTool(\n",
    "            self._image_gen, name=\"generate_image\", description=\"Call this to generate an image. \"\n",
    "        )\n",
    "\n",
    "    async def _image_gen(\n",
    "        self, character_appearence: str, style_attributes: str, worn_and_carried: str, scenario: str\n",
    "    ) -> str:\n",
    "        prompt = f\"Digital painting of a {character_appearence} character with {style_attributes}. Wearing {worn_and_carried}, {scenario}.\"\n",
    "        response = await self._image_client.images.generate(\n",
    "            prompt=prompt, model=\"dall-e-3\", response_format=\"b64_json\", size=\"1024x1024\"\n",
    "        )\n",
    "        return response.data[0].b64_json  # type: ignore\n",
    "\n",
    "    @message_handler\n",
    "    async def handle_request_to_speak(self, message: RequestToSpeak, ctx: MessageContext) -> None:  # type: ignore\n",
    "        display(Markdown(f\"### {self.id.type}: \"))\n",
    "        self._chat_history.append(\n",
    "            UserMessage(content=f\"Transferred to {self.id.type}, adopt the persona immediately.\", source=\"system\")\n",
    "        )\n",
    "        # Ensure that the image generation tool is used.\n",
    "        completion = await self._model_client.create(\n",
    "            [self._system_message] + self._chat_history,\n",
    "            tools=[self._image_gen_tool],\n",
    "            extra_create_args={\"tool_choice\": \"required\"},\n",
    "            cancellation_token=ctx.cancellation_token,\n",
    "        )\n",
    "        assert isinstance(completion.content, list) and all(\n",
    "            isinstance(item, FunctionCall) for item in completion.content\n",
    "        )\n",
    "        images: List[str | Image] = []\n",
    "        for tool_call in completion.content:\n",
    "            arguments = json.loads(tool_call.arguments)\n",
    "            display(arguments)\n",
    "            result = await self._image_gen_tool.run_json(arguments, ctx.cancellation_token)\n",
    "            image = Image.from_base64(self._image_gen_tool.return_value_as_string(result))\n",
    "            image = Image.from_pil(image.image.resize((256, 256)))\n",
    "            display(image.image)  # type: ignore\n",
    "            images.append(image)\n",
    "        await self.publish_message(\n",
    "            GroupChatMessage(body=UserMessage(content=images, source=self.id.type)),\n",
    "            DefaultTopicId(type=self._group_chat_topic_type),\n",
    "        )"
   ]
  },
  {
   "cell_type": "markdown",
   "id": "b2a592d5",
   "metadata": {},
   "source": [
    "# User Agent"
   ]
  },
  {
   "cell_type": "code",
   "execution_count": 21,
   "id": "537628ba",
   "metadata": {},
   "outputs": [],
   "source": [
    "class UserAgent(RoutedAgent):\n",
    "    def __init__(self, description: str, group_chat_topic_type: str) -> None:\n",
    "        super().__init__(description=description)\n",
    "        self._group_chat_topic_type = group_chat_topic_type\n",
    "\n",
    "    @message_handler\n",
    "    async def handle_message(self, message: GroupChatMessage, context: MessageContext) -> None:\n",
    "        display(Markdown(f\"### {self.id.type}\"))\n",
    "        ## For frontend\n",
    "\n",
    "    @message_handler\n",
    "    async def handle_request_to_speak(self, message: RequestToSpeak, context: MessageContext) -> None:\n",
    "\n",
    "        user_input = input(\"Enter your message, type 'APPROVE' to approve the task, or 'REJECT' to reject it: \")\n",
    "        display(Markdown(f\"### {self.id.type}\"))\n",
    "        await self.publish_message(\n",
    "            GroupChatMessage(body=UserMessage(content=user_input, source=self.id.type)),\n",
    "            topic_id=DefaultTopicId(self._group_chat_topic_type)\n",
    "        )"
   ]
  },
  {
   "cell_type": "markdown",
   "id": "440804b3",
   "metadata": {},
   "source": [
    "#  Group Chat Manager"
   ]
  },
  {
   "cell_type": "code",
   "execution_count": 22,
   "id": "50fee993",
   "metadata": {},
   "outputs": [],
   "source": [
    "class GroupChatManager(RoutedAgent):\n",
    "    def __init__(\n",
    "        self,\n",
    "        participant_topic_types: List[str],\n",
    "        model_client: ChatCompletionClient,\n",
    "        participant_descriptions: List[str],\n",
    "    ) -> None:\n",
    "        super().__init__(\"Group chat manager\")\n",
    "        self._participant_topic_types = participant_topic_types\n",
    "        self._model_client = model_client\n",
    "        self._chat_history: List[UserMessage] = []\n",
    "        self._participant_descriptions = participant_descriptions\n",
    "        self._previous_participant_topic_type: str | None = None\n",
    "\n",
    "    @message_handler\n",
    "    async def handle_message(self, message: GroupChatMessage, ctx: MessageContext) -> None:\n",
    "        assert isinstance(message.body, UserMessage)\n",
    "        self._chat_history.append(message.body)\n",
    "        # If the message is an approval message from the user, stop the chat.\n",
    "        if message.body.source == \"User\":\n",
    "            assert isinstance(message.body.content, str)\n",
    "            if message.body.content.lower().strip(string.punctuation).endswith(\"approve\"):\n",
    "                return\n",
    "        # Format message history.\n",
    "        messages: List[str] = []\n",
    "        for msg in self._chat_history:\n",
    "            if isinstance(msg.content, str):\n",
    "                messages.append(f\"{msg.source}: {msg.content}\")\n",
    "            elif isinstance(msg.content, list):\n",
    "                line: List[str] = []\n",
    "                for item in msg.content:\n",
    "                    if isinstance(item, str):\n",
    "                        line.append(item)\n",
    "                    else:\n",
    "                        line.append(\"[Image]\")\n",
    "                messages.append(f\"{msg.source}: {', '.join(line)}\")\n",
    "        history = \"\\n\".join(messages)\n",
    "        # Format roles.\n",
    "        roles = \"\\n\".join(\n",
    "            [\n",
    "                f\"{topic_type}: {description}\".strip()\n",
    "                for topic_type, description in zip(\n",
    "                    self._participant_topic_types, self._participant_descriptions, strict=True\n",
    "                )\n",
    "                if topic_type != self._previous_participant_topic_type\n",
    "            ]\n",
    "        )\n",
    "        selector_prompt = \"\"\"You are in a role play game. The following roles are available:\n",
    "{roles}.\n",
    "Read the following conversation. Then select the next role from {participants} to play. Only return the role.\n",
    "\n",
    "{history}\n",
    "\n",
    "Read the above conversation. Then select the next role from {participants} to play. Only return the role.\n",
    "\"\"\"\n",
    "        system_message = SystemMessage(\n",
    "            content=selector_prompt.format(\n",
    "                roles=roles,\n",
    "                history=history,\n",
    "                participants=str(\n",
    "                    [\n",
    "                        topic_type\n",
    "                        for topic_type in self._participant_topic_types\n",
    "                        if topic_type != self._previous_participant_topic_type\n",
    "                    ]\n",
    "                ),\n",
    "            )\n",
    "        )\n",
    "        completion = await self._model_client.create([system_message], cancellation_token=ctx.cancellation_token)\n",
    "        assert isinstance(completion.content, str)\n",
    "        selected_topic_type: str\n",
    "        for topic_type in self._participant_topic_types:\n",
    "            if topic_type.lower() in completion.content.lower():\n",
    "                selected_topic_type = topic_type\n",
    "                self._previous_participant_topic_type = selected_topic_type\n",
    "                await self.publish_message(RequestToSpeak(), DefaultTopicId(type=selected_topic_type))\n",
    "                return\n",
    "        raise ValueError(f\"Invalid role selected: {completion.content}\")\n"
   ]
  },
  {
   "cell_type": "code",
   "execution_count": 25,
   "id": "5264c9cb",
   "metadata": {},
   "outputs": [],
   "source": [
    "runtime = SingleThreadedAgentRuntime()\n",
    "\n",
    "editor_topic_type = \"Editor\"\n",
    "writer_topic_type = \"Writer\"\n",
    "illustrator_topic_type = \"Illustrator\"\n",
    "user_topic_type = \"User\"\n",
    "group_chat_topic_type = \"group_chat\"\n",
    "\n",
    "editor_description = \"Editor for planning and reviewing the content.\"\n",
    "writer_description = \"Writer for creating any text content.\"\n",
    "user_description = \"User for providing final approval.\"\n",
    "illustrator_description = \"An illustrator for creating images.\"\n",
    "\n",
    "model_client = OpenAIChatCompletionClient(\n",
    "    model=\"gpt-4o\",\n",
    "    # api_key=\"YOUR_API_KEY\",\n",
    ")\n",
    "\n",
    "editor_agent_type = await EditorAgent.register(\n",
    "    runtime,\n",
    "    editor_topic_type,  # Using topic type as the agent type.\n",
    "    lambda: EditorAgent(\n",
    "        description=editor_description,\n",
    "        group_chat_topic_type=group_chat_topic_type,\n",
    "        model_client=model_client,\n",
    "    ),\n",
    ")\n",
    "await runtime.add_subscription(TypeSubscription(topic_type=editor_topic_type, agent_type=editor_agent_type.type))\n",
    "await runtime.add_subscription(TypeSubscription(topic_type=group_chat_topic_type, agent_type=editor_agent_type.type))\n",
    "\n",
    "writer_agent_type = await WriterAgent.register(\n",
    "    runtime,\n",
    "    writer_topic_type,  # Using topic type as the agent type.\n",
    "    lambda: WriterAgent(\n",
    "        description=writer_description,\n",
    "        group_chat_topic_type=group_chat_topic_type,\n",
    "        model_client=model_client,\n",
    "    ),\n",
    ")\n",
    "await runtime.add_subscription(TypeSubscription(topic_type=writer_topic_type, agent_type=writer_agent_type.type))\n",
    "await runtime.add_subscription(TypeSubscription(topic_type=group_chat_topic_type, agent_type=writer_agent_type.type))\n",
    "\n",
    "illustrator_agent_type = await IllustratorAgent.register(\n",
    "    runtime,\n",
    "    illustrator_topic_type,\n",
    "    lambda: IllustratorAgent(\n",
    "        description=illustrator_description,\n",
    "        group_chat_topic_type=group_chat_topic_type,\n",
    "        model_client=model_client,\n",
    "        image_client=openai.AsyncClient(),   \n",
    "        ),\n",
    ")\n",
    "await runtime.add_subscription(\n",
    "    TypeSubscription(topic_type=illustrator_topic_type, agent_type=illustrator_agent_type.type)\n",
    ")\n",
    "await runtime.add_subscription(\n",
    "    TypeSubscription(topic_type=group_chat_topic_type, agent_type=illustrator_agent_type.type)\n",
    ")\n",
    "\n",
    "user_agent_type = await UserAgent.register(\n",
    "    runtime,\n",
    "    user_topic_type,\n",
    "    lambda: UserAgent(description=user_description, group_chat_topic_type=group_chat_topic_type),\n",
    ")\n",
    "await runtime.add_subscription(TypeSubscription(topic_type=user_topic_type, agent_type=user_agent_type.type))\n",
    "await runtime.add_subscription(TypeSubscription(topic_type=group_chat_topic_type, agent_type=user_agent_type.type))\n",
    "\n",
    "group_chat_manager_type = await GroupChatManager.register(\n",
    "    runtime,\n",
    "    \"group_chat_manager\",\n",
    "    lambda: GroupChatManager(\n",
    "        participant_topic_types=[writer_topic_type, illustrator_topic_type, editor_topic_type, user_topic_type],\n",
    "        model_client=model_client,\n",
    "        participant_descriptions=[writer_description, illustrator_description, editor_description, user_description],\n",
    "    ),\n",
    ")\n",
    "await runtime.add_subscription(\n",
    "    TypeSubscription(topic_type=group_chat_topic_type, agent_type=group_chat_manager_type.type)\n",
    ")\n"
   ]
  },
  {
   "cell_type": "code",
   "execution_count": 24,
   "id": "f9ac17b5",
   "metadata": {},
   "outputs": [
    {
     "data": {
      "text/markdown": [
       "### User"
      ],
      "text/plain": [
       "<IPython.core.display.Markdown object>"
      ]
     },
     "metadata": {},
     "output_type": "display_data"
    },
    {
     "data": {
      "text/markdown": [
       "### Writer"
      ],
      "text/plain": [
       "<IPython.core.display.Markdown object>"
      ]
     },
     "metadata": {},
     "output_type": "display_data"
    },
    {
     "data": {
      "text/markdown": [
       "#### Writer Response"
      ],
      "text/plain": [
       "<IPython.core.display.Markdown object>"
      ]
     },
     "metadata": {},
     "output_type": "display_data"
    },
    {
     "data": {
      "text/markdown": [
       "**Title: The Great Escape of the Gingerbread Man**\n",
       "\n",
       "In a quaint little village, nestled between rolling hills and thick woods, there lay a vibrant bakery known for its delectable pastries and enchanting confections. The aroma of freshly baked goods wafted through the cobblestone streets, drawing villagers and travelers alike. Among the baker's most celebrated creations was a particularly spirited gingerbread man.\n",
       "\n",
       "**Illustration 1: A bustling village bakery**\n",
       "The scene captures the warm, inviting interior of the bakery. Stacks of golden-brown pastries and glistening tarts line the wooden counters. In the foreground, a tray of gingerbread men waits to be purchased, each adorned with icing and sugared buttons. Sunlight filters through the window, casting a gentle glow over the baked goods.\n",
       "\n",
       "One crisp morning, as the baker fashioned yet another batch of gingerbread men, something magical stirred in the air. The last gingerbread man, with raisins for eyes and a mischievous grin piped lovingly onto his face, blinked. Snapping into action, he leapt from the baking tray, landing with a soft thud on the flour-dusted countertop.\n",
       "\n",
       "\"Whoa!\" exclaimed the baker, taken aback.\n",
       "\n",
       "But the gingerbread man, with a swift and cheeky wave, dashed across the bakery. \"Run, run, as fast as you can! You can't catch me, I'm the gingerbread man!\" he taunted with a merry laugh.\n",
       "\n",
       "And off he went, out the door and into the bustling village streets.\n",
       "\n",
       "**Illustration 2: The gingerbread man's flight through the village**\n",
       "This image shows the gingerbread man sprinting alongside a cobblestone path, the vibrant village scenery blurring in the background. Villagers, caught by surprise, look on in astonishment and amusement. The lively colors and energetic composition capture the momentum and whimsy of the chase.\n",
       "\n",
       "The gingerbread man sped past the marketplace, dodging between wooden carts and stalls laden with fresh produce. Villagers and their children joined the playful pursuit, spurred by his infectious cheer. Field mice darted from his path, while a stray cat paused its grooming to watch the spectacle.\n",
       "\n",
       "The cheeky confection neared the edge of the village, his pace light and swift. As he neared the embankment of a babbling brook, a determined fox looked up from its watery reflection. The fox's ears perked at the whiff of gingerbread in the air.\n",
       "\n",
       "\"Where are you off to in such a hurry?\" the fox called out with a sly glint in its eye.\n",
       "\n",
       "With a nimble leap, the gingerbread man landed on the fox's nose, pausing just long enough to declare, \"I run from the baker, the village folk, too. Try as you might, you can't catch me!\"\n",
       "\n",
       "The fox, smart and shrewd, feigned innocence before gently flicking the gingerbread man off his nose. \"It’s not about catching, my little friend. It's about the journey,\" he said with a grin.\n",
       "\n",
       "The gingerbread man laughed, a sound like tinkling bells, as he scampered back down the path. The fox watched, amused, before shrugging and dipping its paws back into the brook.\n",
       "\n",
       "**Illustration 3: The gingerbread man united with nature**\n",
       "This final illustration portrays the gingerbread man standing atop a hill, overlooking the village as dusk sets in. His form silhouetted against a sky painted in hues of pink and orange, he gazes out, triumphant and free. The surrounding meadow, filled with wildflowers and whispers of the evening breeze, extends peacefully into the distance.\n",
       "\n",
       "As twilight descended upon the village, the gingerbread man found solace in the embrace of the countryside, his existence now a blink in the tapestry of the earth’s rhythm. And somewhere, between the notes of crickets' song and the rustling leaves, echoed his joyous refrain—forever running, forever free."
      ],
      "text/plain": [
       "<IPython.core.display.Markdown object>"
      ]
     },
     "metadata": {},
     "output_type": "display_data"
    },
    {
     "data": {
      "text/markdown": [
       "### User"
      ],
      "text/plain": [
       "<IPython.core.display.Markdown object>"
      ]
     },
     "metadata": {},
     "output_type": "display_data"
    },
    {
     "data": {
      "text/markdown": [
       "### Editor"
      ],
      "text/plain": [
       "<IPython.core.display.Markdown object>"
      ]
     },
     "metadata": {},
     "output_type": "display_data"
    },
    {
     "data": {
      "text/markdown": [
       "#### Editor Response"
      ],
      "text/plain": [
       "<IPython.core.display.Markdown object>"
      ]
     },
     "metadata": {},
     "output_type": "display_data"
    },
    {
     "data": {
      "text/markdown": [
       "Thank you for the draft, Writer. The story of \"The Great Escape of the Gingerbread Man\" is enchantingly charming and should appeal to young readers with its whimsical narrative and lovable protagonist.\n",
       "\n",
       "Here are a few critical points and suggestions:\n",
       "\n",
       "1. **Title:**\n",
       "   - The title is appropriate and catchy. It immediately signals the playful nature of the tale and aligns well with the established tradition of gingerbread man stories.\n",
       "\n",
       "2. **Story Structure:**\n",
       "   - The narrative has a clear beginning, middle, and end, following the classic arc of an escape story. The pacing is spot-on for capturing the thrill of the chase while allowing room for moments of reflection.\n",
       "\n",
       "3. **Character Development:**\n",
       "   - The gingerbread man is energetic and mischievous, which is well-conveyed. Consider adding a bit more depth to his character by hinting at motivations for his need to run, beyond just the innate desire for freedom.\n",
       "   - The fox is clever, fitting the archetype in classic tales, but his casual dismissal toward the end could be enriched with a line or two to convey his motives or lessons learned.\n",
       "\n",
       "4. **Dialogue:**\n",
       "   - The use of dialogue is effective for adding personality to the characters. It might enhance the dynamic if the baker or villagers have a brief exchange to set their reaction and motivation during the chase.\n",
       "\n",
       "5. **Illustration Guidance:**\n",
       "   - **Illustration 1**: This scene sets the tone beautifully. Make sure the bakery's warmth and the tantalizing aroma of baked goods are palpable in the colors and layout.\n",
       "   - **Illustration 2**: The sense of motion and energy in this scene should captivate the reader's attention. Incorporating villagers' expressions can add a layer of humor and engagement.\n",
       "   - **Illustration 3**: This is a transformative moment for the gingerbread man. Ensure the illustration captures the serenity and beauty of the moment, using colors to reflect dusk's peaceful yet vibrant glow.\n",
       "\n",
       "6. **Language and Style:**\n",
       "   - The language is vivid and paints a clear picture for readers. Consider simplifying a few sentences for younger audience comprehension, such as the fox's dialogue which encompasses more abstract notions of journey and freedom.\n",
       "\n",
       "Overall, the draft is delightful with minor improvements needed to elevate it further. Please revise according to these suggestions and coordinate with the Illustrator to ensure the visual elements align smoothly with the narrative. Once adjustments are made, we can proceed to finalize the story. Let me know if you need clarification or further assistance!"
      ],
      "text/plain": [
       "<IPython.core.display.Markdown object>"
      ]
     },
     "metadata": {},
     "output_type": "display_data"
    },
    {
     "data": {
      "text/markdown": [
       "### User"
      ],
      "text/plain": [
       "<IPython.core.display.Markdown object>"
      ]
     },
     "metadata": {},
     "output_type": "display_data"
    },
    {
     "data": {
      "text/markdown": [
       "### Writer"
      ],
      "text/plain": [
       "<IPython.core.display.Markdown object>"
      ]
     },
     "metadata": {},
     "output_type": "display_data"
    },
    {
     "data": {
      "text/markdown": [
       "#### Writer Response"
      ],
      "text/plain": [
       "<IPython.core.display.Markdown object>"
      ]
     },
     "metadata": {},
     "output_type": "display_data"
    },
    {
     "data": {
      "text/markdown": [
       "Thank you for the insightful feedback, Editor. I'm glad to hear the story resonated well with its playful tone. Here’s how I plan to incorporate your suggestions:\n",
       "\n",
       "1. **Character Development:**\n",
       "   - I'll add a brief backstory or monologue for the gingerbread man, hinting at his longing for adventure and the allure of the unknown being his driving force. This would add a layer of relatability and depth to his character.\n",
       "\n",
       "2. **Fox's Motivation:**\n",
       "   - To add more substance to the fox's character, I can include a line where he reflects on the nature of freedom and companionship, possibly revealing that he admires the gingerbread man's spirit but prefers his own solitude over shared adventures.\n",
       "\n",
       "3. **Dialogue Enhancements:**\n",
       "   - I’ll insert a short exchange between the baker and villagers at the start of the chase, which will not only infuse humor but also reinforce their motivation in a lively manner.\n",
       "\n",
       "4. **Language Adjustments:**\n",
       "   - I will simplify some of the more abstract dialogue, particularly that of the fox, ensuring it remains accessible to younger readers without losing its thematic essence.\n",
       "\n",
       "I'll refine the narrative with these adjustments and communicate with the Illustrator to ensure the artwork complements these enhancements for a seamless storytelling experience. I’ll have the revised draft ready soon! Let me know if there's anything else you'd like me to focus on."
      ],
      "text/plain": [
       "<IPython.core.display.Markdown object>"
      ]
     },
     "metadata": {},
     "output_type": "display_data"
    },
    {
     "data": {
      "text/markdown": [
       "### User"
      ],
      "text/plain": [
       "<IPython.core.display.Markdown object>"
      ]
     },
     "metadata": {},
     "output_type": "display_data"
    },
    {
     "data": {
      "text/markdown": [
       "### User"
      ],
      "text/plain": [
       "<IPython.core.display.Markdown object>"
      ]
     },
     "metadata": {},
     "output_type": "display_data"
    },
    {
     "data": {
      "text/markdown": [
       "### Editor"
      ],
      "text/plain": [
       "<IPython.core.display.Markdown object>"
      ]
     },
     "metadata": {},
     "output_type": "display_data"
    },
    {
     "data": {
      "text/markdown": [
       "#### Editor Response"
      ],
      "text/plain": [
       "<IPython.core.display.Markdown object>"
      ]
     },
     "metadata": {},
     "output_type": "display_data"
    },
    {
     "data": {
      "text/markdown": [
       "Thank you for your response. It seems that there might be some misunderstanding or additional direction you would like us to take. Could you please clarify what specific areas you'd like us to address or modify further? Whether it's about the narrative, character portrayal, illustrations, or another aspect of the draft or plan, I’m here to assist and ensure the final product meets your expectations. Your feedback is important to make the story and illustrations just right. Let me know how we can proceed!"
      ],
      "text/plain": [
       "<IPython.core.display.Markdown object>"
      ]
     },
     "metadata": {},
     "output_type": "display_data"
    },
    {
     "data": {
      "text/markdown": [
       "### User"
      ],
      "text/plain": [
       "<IPython.core.display.Markdown object>"
      ]
     },
     "metadata": {},
     "output_type": "display_data"
    },
    {
     "data": {
      "text/markdown": [
       "### User"
      ],
      "text/plain": [
       "<IPython.core.display.Markdown object>"
      ]
     },
     "metadata": {},
     "output_type": "display_data"
    }
   ],
   "source": [
    "runtime.start()\n",
    "session_id = str(uuid.uuid4())\n",
    "await runtime.publish_message(\n",
    "    GroupChatMessage(\n",
    "        body=UserMessage(\n",
    "            content=\"Please write a short story about the gingerbread man with up to 3 photo-realistic illustrations.\",\n",
    "            source=\"User\",\n",
    "        )\n",
    "    ),\n",
    "    TopicId(type=group_chat_topic_type, source=session_id),\n",
    ")\n",
    "await runtime.stop_when_idle()\n",
    "await model_client.close()\n"
   ]
  }
 ],
 "metadata": {
  "kernelspec": {
   "display_name": "autogen-examples",
   "language": "python",
   "name": "python3"
  },
  "language_info": {
   "codemirror_mode": {
    "name": "ipython",
    "version": 3
   },
   "file_extension": ".py",
   "mimetype": "text/x-python",
   "name": "python",
   "nbconvert_exporter": "python",
   "pygments_lexer": "ipython3",
   "version": "3.12.3"
  }
 },
 "nbformat": 4,
 "nbformat_minor": 5
}
