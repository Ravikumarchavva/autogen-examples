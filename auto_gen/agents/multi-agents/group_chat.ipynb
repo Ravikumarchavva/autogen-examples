{
 "cells": [
  {
   "cell_type": "code",
   "execution_count": null,
   "id": "55be2f22",
   "metadata": {},
   "outputs": [
    {
     "data": {
      "text/plain": [
       "True"
      ]
     },
     "execution_count": 2,
     "metadata": {},
     "output_type": "execute_result"
    }
   ],
   "source": [
    "import json\n",
    "import string\n",
    "from typing import List\n",
    "from dataclasses import dataclass\n",
    "import uuid\n",
    "\n",
    "import openai\n",
    "from autogen_core import (\n",
    "    RoutedAgent,\n",
    "    SingleThreadedAgentRuntime,\n",
    "    TopicId,\n",
    "    DefaultTopicId,\n",
    "    FunctionCall,\n",
    "    Image,\n",
    "    MessageContext,\n",
    "    TypeSubscription,\n",
    "    message_handler,\n",
    "    type_subscription,\n",
    ")\n",
    "from autogen_core.models import ChatCompletionClient, SystemMessage, UserMessage, AssistantMessage, LLMMessage\n",
    "from autogen_core.tools import  FunctionTool\n",
    "from autogen_ext.models.openai import OpenAIChatCompletionClient\n",
    "\n",
    "from IPython.display import display, Markdown\n",
    "from pydantic import BaseModel, Field\n",
    "from rich.console import Console\n",
    "from rich.markdown import Markdown as RichMarkdown\n",
    "from dotenv import load_dotenv\n",
    "load_dotenv()"
   ]
  },
  {
   "cell_type": "code",
   "execution_count": null,
   "id": "ba024a00",
   "metadata": {},
   "outputs": [],
   "source": [
    "class GroupChatMessage(BaseModel):\n",
    "    body: UserMessage\n",
    "\n",
    "class RequestToSpeak(BaseModel):\n",
    "    pass"
   ]
  },
  {
   "cell_type": "code",
   "execution_count": 6,
   "id": "49685332",
   "metadata": {},
   "outputs": [],
   "source": [
    "class GroupBaseChatAgent(RoutedAgent):\n",
    "    def __init__(self, description: str, group_topic_type: str, model_client: ChatCompletionClient, system_message: SystemMessage, topic_id: TopicId = DefaultTopicId(\"group_chat\")):\n",
    "        super().__init__(description=description)\n",
    "        self._group_topic_type = group_topic_type\n",
    "        self._model_client = model_client\n",
    "        self._system_message = system_message\n",
    "        self._chat_history: List[LLMMessage] = []\n",
    "\n",
    "    @message_handler\n",
    "    async def handle_message(self, message: GroupChatMessage, context: MessageContext) -> None:\n",
    "        self._chat_history.extend([\n",
    "            UserMessage(content=f\"Transferred to {message.body.source}\", source='system'),\n",
    "            message.body,\n",
    "        ])\n",
    "\n",
    "    @message_handler\n",
    "    async def handle_request_to_speak(self, message: RequestToSpeak, context: MessageContext) -> None:\n",
    "        Console().print(RichMarkdown(f\"### {self.id.type}\"))\n",
    "        self._chat_history.append(UserMessage(content=f\"Transferred to {self.id.type}, adopt the persona immediately.\", source=\"system\"))\n",
    "\n",
    "        completion = await self._model_client.create(messages=[self._system_message] + self._chat_history)\n",
    "        self._chat_history.append(AssistantMessage(content=completion.content, source=self.id.type))\n",
    "        assert isinstance(completion.content, str), \"Completion content must be a string\"\n",
    "\n",
    "        Console().print(RichMarkdown(f\"#### {self.id.type} Response\"))\n",
    "        Console().print(RichMarkdown(completion.content))\n",
    "\n",
    "        await self.publish_message(\n",
    "            GroupChatMessage(body=UserMessage(content=completion.content, source=self.id.type)),\n",
    "            topic_id=TopicId(self._group_topic_type, self.id.type)\n",
    "        )"
   ]
  },
  {
   "cell_type": "code",
   "execution_count": null,
   "id": "1861d5cc",
   "metadata": {},
   "outputs": [],
   "source": []
  }
 ],
 "metadata": {
  "kernelspec": {
   "display_name": "autogen-examples",
   "language": "python",
   "name": "python3"
  },
  "language_info": {
   "codemirror_mode": {
    "name": "ipython",
    "version": 3
   },
   "file_extension": ".py",
   "mimetype": "text/x-python",
   "name": "python",
   "nbconvert_exporter": "python",
   "pygments_lexer": "ipython3",
   "version": "3.12.3"
  }
 },
 "nbformat": 4,
 "nbformat_minor": 5
}
