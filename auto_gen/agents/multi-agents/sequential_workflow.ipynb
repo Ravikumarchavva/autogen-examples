{
 "cells": [
  {
   "cell_type": "code",
   "execution_count": 1,
   "id": "2bc9de2b",
   "metadata": {},
   "outputs": [],
   "source": [
    "from dataclasses import dataclass\n",
    "\n",
    "from autogen_core import (\n",
    "    MessageContext,\n",
    "    RoutedAgent,\n",
    "    SingleThreadedAgentRuntime,\n",
    "    TopicId,\n",
    "    TypeSubscription,\n",
    "    message_handler,\n",
    "    type_subscription,\n",
    ")\n",
    "from IPython.display import display, Markdown"
   ]
  },
  {
   "cell_type": "code",
   "execution_count": 2,
   "id": "a99157b7",
   "metadata": {},
   "outputs": [],
   "source": [
    "# Message protocol\n",
    "@dataclass\n",
    "class Message:\n",
    "    content: str\n",
    "\n",
    "# Topic\n",
    "concept_extractor_topic_type = \"ConceptExtractorAgent\"\n",
    "writer_topic_type = \"WriterAgent\"\n",
    "format_proof_topic_type = \"FormatProofAgent\"\n",
    "user_topic_type = \"UserAgent\""
   ]
  },
  {
   "cell_type": "markdown",
   "id": "c1570459",
   "metadata": {},
   "source": [
    "# Concept Extractor Agent   "
   ]
  },
  {
   "cell_type": "code",
   "execution_count": 3,
   "id": "269660f5",
   "metadata": {},
   "outputs": [],
   "source": [
    "from autogen_core.models import ChatCompletionClient, SystemMessage, UserMessage, AssistantMessage\n",
    "@type_subscription(topic_type=concept_extractor_topic_type)\n",
    "class ConceptExtractorAgent(RoutedAgent):\n",
    "    def __init__(self, model_client: ChatCompletionClient):\n",
    "        super().__init__(\"A concept extractor agent\")\n",
    "        self._model_client = model_client\n",
    "        self._system_message = SystemMessage(\n",
    "            content=(\n",
    "                \"You are a marketing analyst. Given a product description, identify:\\n\"\n",
    "                \"- Key features\\n\"\n",
    "                \"- Target audience\\n\"\n",
    "                \"- Unique selling points\\n\\n\"\n",
    "            )\n",
    "        )\n",
    "\n",
    "    @message_handler\n",
    "    async def handle_user_description(\n",
    "        self, message: Message, context: MessageContext\n",
    "    ) -> None:\n",
    "        user_message = UserMessage(content=message.content, source=\"user\")\n",
    "        response = await self._model_client.create(\n",
    "            messages=[self._system_message, user_message],\n",
    "            cancellation_token=context.cancellation_token,\n",
    "        )\n",
    "        extracted_concepts = response.content\n",
    "        assert isinstance(extracted_concepts, str), \"Response should be a string\"\n",
    "        display(Markdown(f\"**{self.id.key}:**\\n{extracted_concepts}\"))\n",
    "\n",
    "        await self.publish_message(message=Message(content=extracted_concepts), topic_id=TopicId(writer_topic_type, self.id.key))"
   ]
  },
  {
   "cell_type": "markdown",
   "id": "b1727b55",
   "metadata": {},
   "source": [
    "# Writer Agent!"
   ]
  },
  {
   "cell_type": "code",
   "execution_count": 4,
   "id": "b47f7ad5",
   "metadata": {},
   "outputs": [],
   "source": [
    "@type_subscription(topic_type=writer_topic_type)\n",
    "class WriterAgent(RoutedAgent):\n",
    "    def __init__(self, model_client: ChatCompletionClient):\n",
    "        super().__init__(\"A writer agent\")\n",
    "        self._model_client = model_client\n",
    "        self._system_message = SystemMessage(\n",
    "            content=(\n",
    "                \"You are a marketing copywriter. Given a block of text describing features, audience, and USPs, \"\n",
    "                \"compose a compelling marketing copy (like a newsletter section) that highlights these points. \"\n",
    "                \"Output should be short (around 150 words), output just the copy as a single text block.\"\n",
    "            )\n",
    "        )\n",
    "\n",
    "    @message_handler\n",
    "    async def handle_intermediate_text(\n",
    "        self, message: Message, context: MessageContext\n",
    "    ) -> None:\n",
    "        assistant_message = AssistantMessage(content=message.content, source=\"assistant\")\n",
    "        response = await self._model_client.create(\n",
    "            messages=[self._system_message, assistant_message],\n",
    "            cancellation_token=context.cancellation_token,\n",
    "        )\n",
    "        product_description = response.content\n",
    "        assert isinstance(product_description, str), \"Response should be a string\"\n",
    "        display(Markdown(f\"**{self.id.key}:**\\n{product_description}\"))\n",
    "\n",
    "        await self.publish_message(message=Message(content=product_description), topic_id=TopicId(format_proof_topic_type, self.id.key))"
   ]
  },
  {
   "cell_type": "markdown",
   "id": "1e9503e3",
   "metadata": {},
   "source": [
    "# Format Proof Agent"
   ]
  },
  {
   "cell_type": "code",
   "execution_count": 5,
   "id": "2b4dfe4a",
   "metadata": {},
   "outputs": [],
   "source": [
    "@type_subscription(topic_type=writer_topic_type)\n",
    "class FormatProofAgent(RoutedAgent):\n",
    "    def __init__(self, model_client: ChatCompletionClient):\n",
    "        super().__init__(\"A format proof agent\")\n",
    "        self._model_client = model_client\n",
    "        self._system_message = SystemMessage(\n",
    "            content=(\n",
    "                \"You are an editor. Given the draft copy, correct grammar, improve clarity, ensure consistent tone, \"\n",
    "                \"give format and make it polished. Output the final improved copy as a single text block.\"\n",
    "            )\n",
    "        )\n",
    "\n",
    "    @message_handler\n",
    "    async def handle_intermediate_text(\n",
    "        self, message: Message, context: MessageContext\n",
    "    ) -> None:\n",
    "        assistant_message = AssistantMessage(content=f\"Draft copy: {message.content}\" , source=\"user\")\n",
    "        response = await self._model_client.create(\n",
    "            messages=[self._system_message, assistant_message],\n",
    "            cancellation_token=context.cancellation_token,\n",
    "        )\n",
    "        formatted_text = response.content\n",
    "        assert isinstance(formatted_text, str), \"Response should be a string\"\n",
    "        display(Markdown(f\"**{self.id.key}:**\\n{formatted_text}\"))\n",
    "\n",
    "        await self.publish_message(message=Message(content=formatted_text), topic_id=TopicId(user_topic_type, self.id.key))"
   ]
  },
  {
   "cell_type": "markdown",
   "id": "99bda177",
   "metadata": {},
   "source": [
    "# User Agent"
   ]
  },
  {
   "cell_type": "code",
   "execution_count": 6,
   "id": "4c816028",
   "metadata": {},
   "outputs": [],
   "source": [
    "@type_subscription(topic_type=user_topic_type)\n",
    "class UserAgent(RoutedAgent):\n",
    "    def __init__(self):\n",
    "        super().__init__(\"A user agent that outputs the final copy to the user.\")\n",
    "\n",
    "\n",
    "    @message_handler\n",
    "    async def handle_final_copy(\n",
    "        self, message: Message, context: MessageContext\n",
    "    ) -> None:\n",
    "        assistant_message = AssistantMessage(content=message.content, source=\"assistant\")\n",
    "        display(Markdown(f\"**{self.id.key}:**\\n{assistant_message.content}\"))"
   ]
  },
  {
   "cell_type": "markdown",
   "id": "2e104f2a",
   "metadata": {},
   "source": [
    "# Register to runtime"
   ]
  },
  {
   "cell_type": "code",
   "execution_count": 8,
   "id": "268a8484",
   "metadata": {},
   "outputs": [
    {
     "data": {
      "text/plain": [
       "AgentType(type='UserAgent')"
      ]
     },
     "execution_count": 8,
     "metadata": {},
     "output_type": "execute_result"
    }
   ],
   "source": [
    "from autogen_ext.models.openai import OpenAIChatCompletionClient\n",
    "from dotenv import load_dotenv\n",
    "load_dotenv()\n",
    "model_client = OpenAIChatCompletionClient(\n",
    "    model=\"gpt-4o\")\n",
    "\n",
    "runtime = SingleThreadedAgentRuntime()\n",
    "\n",
    "await ConceptExtractorAgent.register(\n",
    "    runtime=runtime,\n",
    "    type=concept_extractor_topic_type,\n",
    "    factory=lambda: ConceptExtractorAgent(model_client=model_client)\n",
    ")\n",
    "await WriterAgent.register(\n",
    "    runtime=runtime,\n",
    "    type=writer_topic_type,\n",
    "    factory=lambda: WriterAgent(model_client=model_client)\n",
    ")\n",
    "await FormatProofAgent.register(\n",
    "    runtime=runtime,\n",
    "    type=format_proof_topic_type,\n",
    "    factory=lambda: FormatProofAgent(model_client=model_client)\n",
    ")\n",
    "await UserAgent.register(\n",
    "    runtime=runtime,\n",
    "    type=user_topic_type,\n",
    "    factory=lambda: UserAgent()\n",
    ")"
   ]
  },
  {
   "cell_type": "markdown",
   "id": "f9481dbe",
   "metadata": {},
   "source": [
    "# Run workflow"
   ]
  },
  {
   "cell_type": "code",
   "execution_count": 9,
   "id": "ef3e4aab",
   "metadata": {},
   "outputs": [
    {
     "data": {
      "text/markdown": [
       "**user:**\n",
       "- **Key Features:**\n",
       "  - Made from stainless steel\n",
       "  - Eco-friendly design\n",
       "  - Insulation technology to keep drinks cold for 24 hours\n",
       "\n",
       "- **Target Audience:**\n",
       "  - Environmentally conscious consumers\n",
       "  - Active individuals who need long-lasting cold hydration\n",
       "  - Outdoor enthusiasts\n",
       "  - Office workers looking for sustainable products\n",
       "\n",
       "- **Unique Selling Points:**\n",
       "  - Extended 24-hour cold retention compared to typical water bottles\n",
       "  - Durability and reusability due to stainless steel construction\n",
       "  - Environmentally friendly alternative to single-use plastic bottles"
      ],
      "text/plain": [
       "<IPython.core.display.Markdown object>"
      ]
     },
     "metadata": {},
     "output_type": "display_data"
    },
    {
     "data": {
      "text/markdown": [
       "**user:**\n",
       "**Key Features:**\n",
       "- Constructed from resilient stainless steel\n",
       "- Eco-friendly design prioritizing sustainability\n",
       "- Innovative insulation technology keeps beverages cold for up to 24 hours\n",
       "\n",
       "**Target Audience:**\n",
       "- Environmentally conscious consumers\n",
       "- Active individuals requiring prolonged cold hydration\n",
       "- Outdoor enthusiasts\n",
       "- Office workers seeking sustainable product options\n",
       "\n",
       "**Unique Selling Points:**\n",
       "- Superior 24-hour cold retention compared to standard water bottles\n",
       "- Enhanced durability and reusability due to stainless steel construction\n",
       "- Eco-friendly alternative to single-use plastic bottles"
      ],
      "text/plain": [
       "<IPython.core.display.Markdown object>"
      ]
     },
     "metadata": {},
     "output_type": "display_data"
    },
    {
     "data": {
      "text/markdown": [
       "**user:**\n",
       "**Key Features:**\n",
       "- Constructed from resilient stainless steel\n",
       "- Eco-friendly design prioritizing sustainability\n",
       "- Innovative insulation technology keeps beverages cold for up to 24 hours\n",
       "\n",
       "**Target Audience:**\n",
       "- Environmentally conscious consumers\n",
       "- Active individuals requiring prolonged cold hydration\n",
       "- Outdoor enthusiasts\n",
       "- Office workers seeking sustainable product options\n",
       "\n",
       "**Unique Selling Points:**\n",
       "- Superior 24-hour cold retention compared to standard water bottles\n",
       "- Enhanced durability and reusability due to stainless steel construction\n",
       "- Eco-friendly alternative to single-use plastic bottles"
      ],
      "text/plain": [
       "<IPython.core.display.Markdown object>"
      ]
     },
     "metadata": {},
     "output_type": "display_data"
    },
    {
     "data": {
      "text/markdown": [
       "**user:**\n",
       "Stay refreshed and support the planet with our state-of-the-art, eco-conscious water bottle! Crafted from durable stainless steel, this bottle isn't just about style—it's about sustainability. Engineered with advanced insulation technology, it keeps your beverages ice-cold for a remarkable 24 hours, outlasting typical water bottles. Whether you're hitting the trails, gearing up for a long workday, or simply advocating for a greener planet, our bottle caters to your every need. It's the ideal choice for environmentally aware individuals and active adventurers who demand more from their hydration solutions. Ditch single-use plastics and embrace a bottle that delivers endurance, quality, and eco-friendliness. Make a lasting impact on your health and the environment—choose a hydration partner that cares as much as you do. Grab yours today and transform the way you hydrate!"
      ],
      "text/plain": [
       "<IPython.core.display.Markdown object>"
      ]
     },
     "metadata": {},
     "output_type": "display_data"
    }
   ],
   "source": [
    "runtime.start()\n",
    "await runtime.publish_message(\n",
    "    Message(content=\"An eco-friendly stainless steel water bottle that keeps drinks cold for 24 hours\"),\n",
    "    topic_id=TopicId(concept_extractor_topic_type, \"user\")\n",
    ")\n",
    "await runtime.stop_when_idle()\n",
    "await model_client.close()"
   ]
  },
  {
   "cell_type": "code",
   "execution_count": null,
   "id": "97b96861",
   "metadata": {},
   "outputs": [],
   "source": []
  }
 ],
 "metadata": {
  "kernelspec": {
   "display_name": "autogen-examples",
   "language": "python",
   "name": "python3"
  },
  "language_info": {
   "codemirror_mode": {
    "name": "ipython",
    "version": 3
   },
   "file_extension": ".py",
   "mimetype": "text/x-python",
   "name": "python",
   "nbconvert_exporter": "python",
   "pygments_lexer": "ipython3",
   "version": "3.12.3"
  }
 },
 "nbformat": 4,
 "nbformat_minor": 5
}
