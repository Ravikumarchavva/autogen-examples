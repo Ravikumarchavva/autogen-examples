{
 "cells": [
  {
   "cell_type": "code",
   "execution_count": 1,
   "id": "03adf3d2",
   "metadata": {},
   "outputs": [],
   "source": [
    "from dataclasses import dataclass\n",
    "\n",
    "\n",
    "@dataclass\n",
    "class TextMessage:\n",
    "    content: str\n",
    "    source: str\n",
    "\n",
    "\n",
    "@dataclass\n",
    "class ImageMessage:\n",
    "    url: str\n",
    "    source: str\n"
   ]
  },
  {
   "cell_type": "code",
   "execution_count": 2,
   "id": "425343fd",
   "metadata": {},
   "outputs": [
    {
     "data": {
      "text/plain": [
       "AgentType(type='my_agent')"
      ]
     },
     "execution_count": 2,
     "metadata": {},
     "output_type": "execute_result"
    }
   ],
   "source": [
    "from autogen_core import AgentId, MessageContext, RoutedAgent, SingleThreadedAgentRuntime, message_handler\n",
    "\n",
    "\n",
    "class MyAgent(RoutedAgent):\n",
    "    @message_handler\n",
    "    async def on_text_message(self, message: TextMessage, ctx: MessageContext) -> None:\n",
    "        print(f\"Hello, {message.source}, you said {message.content}!\")\n",
    "\n",
    "    @message_handler\n",
    "    async def on_image_message(self, message: ImageMessage, ctx: MessageContext) -> None:\n",
    "        print(f\"Hello, {message.source}, you sent me {message.url}!\")\n",
    "runtime = SingleThreadedAgentRuntime()\n",
    "await MyAgent.register(runtime, \"my_agent\", lambda: MyAgent(\"My Agent\"))"
   ]
  },
  {
   "cell_type": "code",
   "execution_count": 3,
   "id": "a5ba9370",
   "metadata": {},
   "outputs": [
    {
     "name": "stdout",
     "output_type": "stream",
     "text": [
      "Hello, User, you said Hello, World!!\n",
      "Hello, User, you sent me https://example.com/image.jpg!\n"
     ]
    }
   ],
   "source": [
    "runtime.start()\n",
    "agent_id = AgentId(\"my_agent\", \"default\")\n",
    "await runtime.send_message(TextMessage(content=\"Hello, World!\", source=\"User\"), agent_id)\n",
    "await runtime.send_message(ImageMessage(url=\"https://example.com/image.jpg\", source=\"User\"), agent_id)\n",
    "await runtime.stop_when_idle()"
   ]
  },
  {
   "cell_type": "code",
   "execution_count": 4,
   "id": "e3fcca47",
   "metadata": {},
   "outputs": [
    {
     "name": "stdout",
     "output_type": "stream",
     "text": [
      "User1 sent: Hello from User1\n",
      "User2 sent: Hello from User2\n",
      "User3 sent: Hello from User3\n"
     ]
    }
   ],
   "source": [
    "class RountedBySenderAgent(RoutedAgent):\n",
    "    @message_handler(match=lambda msg, ctx: msg.source.startswith(\"User1\"))\n",
    "    async def on_user1_message(self, message: TextMessage, ctx: MessageContext) -> None:\n",
    "        print(f\"User1 sent: {message.content}\")\n",
    "    @message_handler(match=lambda msg, ctx: msg.source.startswith(\"User2\"))\n",
    "    async def on_user2_message(self, message: TextMessage, ctx: MessageContext) -> None:\n",
    "        print(f\"User2 sent: {message.content}\")\n",
    "    @message_handler(match=lambda msg, ctx: msg.source.startswith(\"User3\"))\n",
    "    async def on_user3_message(self, message: TextMessage, ctx: MessageContext) -> None:\n",
    "        print(f\"User3 sent: {message.content}\")\n",
    "runtime = SingleThreadedAgentRuntime()\n",
    "await RountedBySenderAgent.register(runtime, \"rounted_by_sender_agent\", lambda: RountedBySenderAgent(\"Routed By Sender Agent\"))\n",
    "runtime.start()\n",
    "await runtime.send_message(TextMessage(content=\"Hello from User1\", source=\"User1\"), AgentId(\"rounted_by_sender_agent\", \"default\"))\n",
    "await runtime.send_message(TextMessage(content=\"Hello from User2\", source=\"User2\"), AgentId(\"rounted_by_sender_agent\", \"default\"))\n",
    "await runtime.send_message(TextMessage(content=\"Hello from User3\", source=\"User3\"), AgentId(\"rounted_by_sender_agent\", \"default\"))\n",
    "await runtime.stop_when_idle()"
   ]
  },
  {
   "cell_type": "code",
   "execution_count": 5,
   "id": "231b820e",
   "metadata": {},
   "outputs": [
    {
     "name": "stdout",
     "output_type": "stream",
     "text": [
      "Received message: Testing\n",
      "Received inner response: Hello from inner, Hello from outer, Testing\n"
     ]
    }
   ],
   "source": [
    "from dataclasses import dataclass\n",
    "\n",
    "from autogen_core import MessageContext, RoutedAgent, SingleThreadedAgentRuntime, message_handler\n",
    "\n",
    "\n",
    "@dataclass\n",
    "class Message:\n",
    "    content: str\n",
    "\n",
    "\n",
    "class InnerAgent(RoutedAgent):\n",
    "    @message_handler\n",
    "    async def on_my_message(self, message: Message, ctx: MessageContext) -> Message:\n",
    "        return Message(content=f\"Hello from inner, {message.content}\")\n",
    "\n",
    "\n",
    "class OuterAgent(RoutedAgent):\n",
    "    def __init__(self, description: str, inner_agent_type: str):\n",
    "        super().__init__(description)\n",
    "        self.inner_agent_id = AgentId(inner_agent_type, self.id.key)\n",
    "\n",
    "    @message_handler\n",
    "    async def on_my_message(self, message: Message, ctx: MessageContext) -> None:\n",
    "        print(f\"Received message: {message.content}\")\n",
    "        # Send a direct message to the inner agent and receives a response.\n",
    "        response = await self.send_message(Message(f\"Hello from outer, {message.content}\"), self.inner_agent_id)\n",
    "        print(f\"Received inner response: {response.content}\")\n",
    "runtime = SingleThreadedAgentRuntime()\n",
    "await InnerAgent.register(runtime, \"inner_agent\", lambda: InnerAgent(\"Inner Agent\"))\n",
    "await OuterAgent.register(runtime, \"outer_agent\", lambda: OuterAgent(\"Outer Agent\", \"inner_agent\"))\n",
    "runtime.start()\n",
    "await runtime.send_message(Message(content=\"Testing\"), AgentId(\"outer_agent\", \"default\"))\n",
    "await runtime.stop_when_idle()"
   ]
  },
  {
   "cell_type": "code",
   "execution_count": 6,
   "id": "628a2139",
   "metadata": {},
   "outputs": [
    {
     "name": "stdout",
     "output_type": "stream",
     "text": [
      "Hello, User, you said Publishing Messing!!\n",
      "Broadcasting message: Publishing Messing!\n"
     ]
    }
   ],
   "source": [
    "from autogen_core import type_subscription, AgentId, message_handler, RoutedAgent, TypeSubscription\n",
    "\n",
    "@type_subscription(\"TextMessage\")\n",
    "class ReceivingAgent(RoutedAgent):\n",
    "    @message_handler\n",
    "    async def on_text_message(self, message: TextMessage, ctx: MessageContext) -> None:\n",
    "        print(f\"Hello, {message.source}, you said {message.content}!\")\n",
    "\n",
    "\n",
    "from autogen_core import TopicId\n",
    "\n",
    "class BroadcastingAgent(RoutedAgent):\n",
    "    \n",
    "    @message_handler\n",
    "    async def on_my_message(self, message: TextMessage, ctx: MessageContext) -> None:\n",
    "        print(f\"Broadcasting message: {message.content}\")\n",
    "        # Broadcast the message to all agents subscribed to the TextMessage type\n",
    "        await self.publish_message(message, TopicId(type=\"default\", source=self.id.key))\n",
    "\n",
    "runtime = SingleThreadedAgentRuntime()\n",
    "await ReceivingAgent.register(runtime, \"receiving_agent\", lambda: ReceivingAgent(\"Receiving Agent\"))\n",
    "await BroadcastingAgent.register(runtime, \"broadcasting_agent\", lambda: BroadcastingAgent(\"Broadcasting Agent\"))\n",
    "await runtime.add_subscription( TypeSubscription(topic_type=\"TextMessage\", agent_type=\"broadcasting_agent\"))\n",
    "runtime.start()\n",
    "await runtime.publish_message(TextMessage(content=\"Publishing Messing!\", source=\"User\"), topic_id=TopicId(type=\"TextMessage\", source=\"broadcasting_agent\"))\n",
    "await runtime.stop_when_idle()"
   ]
  },
  {
   "cell_type": "code",
   "execution_count": 7,
   "id": "003b3080",
   "metadata": {},
   "outputs": [
    {
     "name": "stdout",
     "output_type": "stream",
     "text": [
      "I'm sorry, but I can't provide real-time weather updates. I recommend checking a reliable weather website or app for the most current information.\n",
      "\n",
      "------------\n",
      "\n",
      "The complete response:\n",
      "I'm sorry, but I can't provide real-time weather updates. I recommend checking a reliable weather website or app for the most current information.\n"
     ]
    }
   ],
   "source": [
    "from autogen_core.models import ChatCompletionClient, CreateResult, UserMessage\n",
    "\n",
    "config = {\n",
    "    \"provider\": \"openai_chat_completion_client\",\n",
    "    \"config\": {\"model\": \"gpt-4o\"},\n",
    "}\n",
    "\n",
    "client = ChatCompletionClient.load_component(config)\n",
    "\n",
    "messages = [\n",
    "    UserMessage(content=\"Hello, how are you?\", source=\"user\"),\n",
    "    UserMessage(content=\"What is the weather like today?\", source=\"user\"),\n",
    "]\n",
    "\n",
    "stream = client.create_stream(messages=messages)\n",
    "async for chunk in stream:  # type: ignore\n",
    "    if isinstance(chunk, str):\n",
    "        # The chunk is a string.\n",
    "        print(chunk, flush=True, end=\"\")\n",
    "    else:\n",
    "        # The final chunk is a CreateResult object.\n",
    "        assert isinstance(chunk, CreateResult) and isinstance(chunk.content, str)\n",
    "        # The last response is a CreateResult object with the complete message.\n",
    "        print(\"\\n\\n------------\\n\")\n",
    "        print(\"The complete response:\", flush=True)\n",
    "        print(chunk.content, flush=True)"
   ]
  },
  {
   "cell_type": "code",
   "execution_count": 8,
   "id": "4d6124cf",
   "metadata": {},
   "outputs": [
    {
     "name": "stdout",
     "output_type": "stream",
     "text": [
      "It's wonderful to hear that you're feeling happy! Moments of joy are precious and can brighten your entire day. Here are a few ways to maintain that positive mood:\n",
      "\n",
      "1. **Gratitude Practice:** Reflect on the things you're grateful for. It amplifies happiness.\n",
      "   \n",
      "2. **Share Your Joy:** Spread your happiness by sharing it with friends or loved ones. A simple message or call can do wonders. \n",
      "   \n",
      "3. **Creative Expression:** Channel your happiness into something creative like writing, drawing, or playing music. \n",
      "\n",
      "4. **Stay Active:** A short walk or any physical activity can enhance your mood even more.\n",
      "\n",
      "5. **Mindful Breathing:** Take deep, mindful breaths to savor the moment. It can help anchor and enhance feelings of happiness. \n",
      "\n",
      "6. **Positive Vibe Playlist:** Listen to your favorite uplifting songs. Music can be a powerful mood booster.\n",
      "\n",
      "Remember, happiness is contagious, and you're likely spreading positive vibes just by being happy. Keep smiling and make the most of your wonderful mood!\n",
      "happy\n"
     ]
    }
   ],
   "source": [
    "from typing import Literal\n",
    "\n",
    "from pydantic import BaseModel\n",
    "from autogen_ext.models.openai import OpenAIChatCompletionClient\n",
    "\n",
    "# The response format for the agent as a Pydantic base model.\n",
    "class AgentResponse(BaseModel):\n",
    "    thoughts: str\n",
    "    response: Literal[\"happy\", \"sad\", \"neutral\"]\n",
    "\n",
    "\n",
    "# Create an agent that uses the OpenAI GPT-4o model with the custom response format.\n",
    "model_client = OpenAIChatCompletionClient(\n",
    "    model=\"gpt-4o\",\n",
    "    response_format=AgentResponse,  # type: ignore\n",
    ")\n",
    "\n",
    "# Send a message list to the model and await the response.\n",
    "messages = [\n",
    "    UserMessage(content=\"I am happy.\", source=\"user\"),\n",
    "]\n",
    "response = await model_client.create(messages=messages)\n",
    "assert isinstance(response.content, str)\n",
    "parsed_response = AgentResponse.model_validate_json(response.content)\n",
    "print(parsed_response.thoughts)\n",
    "print(parsed_response.response)\n",
    "\n",
    "# Close the connection to the model client.\n",
    "await model_client.close()\n"
   ]
  },
  {
   "cell_type": "code",
   "execution_count": 14,
   "id": "18b1bec0",
   "metadata": {},
   "outputs": [
    {
     "name": "stdout",
     "output_type": "stream",
     "text": [
      "{\"thoughts\":\"It's wonderful to hear that you're feeling happy! Moments of joy are precious and can brighten your entire day. Here are a few ways to maintain that positive mood:\\n\\n1. **Gratitude Practice:** Reflect on the things you're grateful for. It amplifies happiness.\\n   \\n2. **Share Your Joy:** Spread your happiness by sharing it with friends or loved ones. A simple message or call can do wonders. \\n   \\n3. **Creative Expression:** Channel your happiness into something creative like writing, drawing, or playing music. \\n\\n4. **Stay Active:** A short walk or any physical activity can enhance your mood even more.\\n\\n5. **Mindful Breathing:** Take deep, mindful breaths to savor the moment. It can help anchor and enhance feelings of happiness. \\n\\n6. **Positive Vibe Playlist:** Listen to your favorite uplifting songs. Music can be a powerful mood booster.\\n\\nRemember, happiness is contagious, and you're likely spreading positive vibes just by being happy. Keep smiling and make the most of your wonderful mood!\",\"response\":\"happy\"}\n"
     ]
    }
   ],
   "source": [
    "print(response.content)"
   ]
  },
  {
   "cell_type": "code",
   "execution_count": 15,
   "id": "7256f82a",
   "metadata": {},
   "outputs": [
    {
     "name": "stdout",
     "output_type": "stream",
     "text": [
      "Received message from User: Hello, how are you?\n",
      "Response from model: Hello! I'm just a program, so I don't have feelings, but I'm here and ready to help you. How can I assist you today?\n"
     ]
    }
   ],
   "source": [
    "from autogen_core import RoutedAgent, message_handler, MessageContext\n",
    "from autogen_core.models import UserMessage, SystemMessage\n",
    "from autogen_ext.models.openai import OpenAIChatCompletionClient\n",
    "\n",
    "class SimpleAgent(RoutedAgent):\n",
    "\n",
    "    def __init__(self, name: str, model_client: OpenAIChatCompletionClient):\n",
    "        super().__init__(name)\n",
    "        self._model_client = model_client\n",
    "        self._system_message = [SystemMessage(content=\"You are a helpful assistant.\")]\n",
    "\n",
    "    @message_handler\n",
    "    async def on_user_message(self, message: UserMessage, ctx: MessageContext) -> None:\n",
    "        print(f\"Received message from {message.source}: {message.content}\")\n",
    "        # Create a response using the model client.\n",
    "        response = await self._model_client.create(messages=self._system_message + [message], cancellation_token=ctx.cancellation_token)\n",
    "        if isinstance(response.content, str):\n",
    "            print(f\"Response from model: {response.content}\")\n",
    "        else:\n",
    "            print(\"Unexpected response format:\", response.content)\n",
    "\n",
    "runtime = SingleThreadedAgentRuntime()\n",
    "model_client = OpenAIChatCompletionClient(model=\"gpt-4o\")\n",
    "await SimpleAgent.register(runtime, \"simple_agent\", lambda: SimpleAgent(\"Simple Agent\", model_client))\n",
    "runtime.start()\n",
    "await runtime.send_message(UserMessage(content=\"Hello, how are you?\", source=\"User\"), AgentId(\"simple_agent\", \"default\"))\n",
    "await runtime.stop_when_idle()"
   ]
  },
  {
   "cell_type": "code",
   "execution_count": 22,
   "id": "005baa1f",
   "metadata": {},
   "outputs": [
    {
     "name": "stdout",
     "output_type": "stream",
     "text": [
      "Received message from user: Hello, describe some points about biriyani\n"
     ]
    },
    {
     "data": {
      "text/markdown": [
       "**Response from model:** Biryani is a popular and flavorful rice dish that has roots in the Indian subcontinent, and it is enjoyed by people all over the world. Here are some key points about biryani:\n",
       "\n",
       "1. **Origin and History**: Biryani is believed to have originated in the Indian subcontinent, with influences from Persian cuisine. It is said to have been brought to India by Persian travelers and merchants, and it was further developed in royal kitchens.\n",
       "\n",
       "2. **Main Ingredients**: The dish typically consists of basmati rice, meat (such as chicken, beef, goat, or lamb), and a variety of spices. In some variations, seafood or eggs are also used. Vegetarian versions often include vegetables or paneer.\n",
       "\n",
       "3. **Spices and Flavoring**: Biryani is known for its rich and aromatic flavors, which come from a blend of spices such as cardamom, cloves, cinnamon, bay leaves, cumin, and saffron. Other ingredients may include ginger, garlic, mint, and yogurt.\n",
       "\n",
       "4. **Cooking Method**: There are various methods of cooking biryani, but a common technique is the \"Dum\" method, where the rice and meat are layered and cooked together on low heat, allowing the flavors to meld.\n",
       "\n",
       "5. **Types of Biryani**: There are numerous regional variations of biryani, each with its own unique twist. Some famous types include Hyderabadi Biryani, Lucknowi (Awadhi) Biryani, Kolkata Biryani, Malabar Biryani, and Sindhi Biryani, among others.\n",
       "\n",
       "6. **Accompaniments**: Biryani is often served with side dishes such as raita (a yogurt-based side dish), salad, boiled eggs, or pickles.\n",
       "\n",
       "7. **Cultural Significance**: Biryani holds significant cultural importance in South Asia. It is a staple dish at celebrations, weddings, and festivals, symbolizing hospitality and festivity.\n",
       "\n",
       "8. **Global Popularity**: While biryani is traditionally from the Indian subcontinent, its popularity has spread globally. It is a favorite in many countries, often available in restaurants that specialize in Indian, Pakistani, Bangladeshi, or Middle Eastern cuisines.\n",
       "\n",
       "9. **Variations and Innovations**: Modern chefs and home cooks have introduced various innovations and fusions to traditional biryani, incorporating new ingredients and cooking techniques to suit different palates and dietary preferences, including vegan and low-carb versions.\n",
       "\n",
       "Overall, biryani is a beloved dish that offers a delightful combination of flavors, aromas, and textures, making it a timeless culinary treasure."
      ],
      "text/plain": [
       "<IPython.core.display.Markdown object>"
      ]
     },
     "metadata": {},
     "output_type": "display_data"
    },
    {
     "name": "stdout",
     "output_type": "stream",
     "text": [
      "Received message from user: What is the 1st point you told before?\n"
     ]
    },
    {
     "data": {
      "text/markdown": [
       "**Response from model:** The first point I mentioned about biryani was its origin and history. Biryani is believed to have originated in the Indian subcontinent, with influences from Persian cuisine. It is said to have been brought to India by Persian travelers and merchants, and it was further developed in royal kitchens."
      ],
      "text/plain": [
       "<IPython.core.display.Markdown object>"
      ]
     },
     "metadata": {},
     "output_type": "display_data"
    }
   ],
   "source": [
    "from IPython.display import display, Markdown\n",
    "from autogen_core import RoutedAgent, message_handler, MessageContext\n",
    "from autogen_core.model_context import BufferedChatCompletionContext\n",
    "from autogen_core.models import UserMessage, SystemMessage, AssistantMessage\n",
    "from autogen_ext.models.openai import OpenAIChatCompletionClient\n",
    "\n",
    "@dataclass\n",
    "class Message:\n",
    "    content: str\n",
    "\n",
    "class SimpleAgent(RoutedAgent):\n",
    "\n",
    "    def __init__(self, name: str, model_client: OpenAIChatCompletionClient):\n",
    "        super().__init__(name)\n",
    "        self._model_client = model_client\n",
    "        self._system_message = [SystemMessage(content=\"You are a helpful assistant.\")]\n",
    "        self._model_context = BufferedChatCompletionContext(buffer_size=10)\n",
    "\n",
    "    @message_handler\n",
    "    async def on_user_message(self, message: Message, ctx: MessageContext) -> None:\n",
    "        user_message = UserMessage(content=message.content, source=\"user\")\n",
    "        print(f\"Received message from {user_message.source}: {user_message.content}\")\n",
    "        await self._model_context.add_message(user_message)\n",
    "        # Create a response using the model client.\n",
    "        response = await self._model_client.create(messages=self._system_message + ( await self._model_context.get_messages()), cancellation_token=ctx.cancellation_token)\n",
    "        if isinstance(response.content, str):\n",
    "            # print(f\"Response from model: {response.content}\")   \n",
    "            display(Markdown(f\"**Response from model:** {response.content}\"))\n",
    "            await self._model_context.add_message(AssistantMessage(content=response.content, source=self.metadata[\"type\"]))\n",
    "        else:\n",
    "            print(\"Unexpected response format:\", response.content)\n",
    "\n",
    "runtime = SingleThreadedAgentRuntime()\n",
    "model_client = OpenAIChatCompletionClient(model=\"gpt-4o\")\n",
    "await SimpleAgent.register(runtime, \"simple_agent\", lambda: SimpleAgent(\"Simple Agent\", model_client))\n",
    "runtime.start()\n",
    "agent_id = AgentId(\"simple_agent\", \"default\")\n",
    "msg1 = Message(content=\"Hello, describe some points about biriyani\")\n",
    "msg2 = Message(content=\"What is the 1st point you told before?\")\n",
    "# Send messages to the agent.\n",
    "await runtime.send_message(message=msg1, recipient=agent_id)\n",
    "await runtime.send_message(message=msg2, recipient= agent_id)\n",
    "await runtime.stop_when_idle()"
   ]
  },
  {
   "cell_type": "code",
   "execution_count": null,
   "id": "42447e88",
   "metadata": {},
   "outputs": [],
   "source": []
  }
 ],
 "metadata": {
  "kernelspec": {
   "display_name": "autogen-examples",
   "language": "python",
   "name": "python3"
  },
  "language_info": {
   "codemirror_mode": {
    "name": "ipython",
    "version": 3
   },
   "file_extension": ".py",
   "mimetype": "text/x-python",
   "name": "python",
   "nbconvert_exporter": "python",
   "pygments_lexer": "ipython3",
   "version": "3.13.3"
  }
 },
 "nbformat": 4,
 "nbformat_minor": 5
}
