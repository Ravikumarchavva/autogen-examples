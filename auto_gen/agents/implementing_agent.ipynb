{
 "cells": [
  {
   "cell_type": "code",
   "execution_count": 18,
   "id": "1376e8f2",
   "metadata": {},
   "outputs": [],
   "source": [
    "from dataclasses import dataclass\n",
    "\n",
    "from autogen_core import AgentId, MessageContext, RoutedAgent, message_handler\n",
    "\n",
    "\n",
    "@dataclass\n",
    "class MyMessageType:\n",
    "    content: str\n",
    "\n",
    "\n",
    "class MyAgent(RoutedAgent):\n",
    "    def __init__(self) -> None:\n",
    "        super().__init__(\"MyAgent\")\n",
    "\n",
    "    @message_handler\n",
    "    async def handle_my_message_type(self, message: MyMessageType, ctx: MessageContext) -> None:\n",
    "        print(f\"{self.id.type} received message: {message.content}\")"
   ]
  },
  {
   "cell_type": "code",
   "execution_count": 19,
   "id": "42de744f",
   "metadata": {},
   "outputs": [],
   "source": [
    "from autogen_agentchat.agents import AssistantAgent\n",
    "from autogen_agentchat.messages import TextMessage\n",
    "from autogen_ext.models.openai import OpenAIChatCompletionClient\n",
    "from dotenv import load_dotenv\n",
    "load_dotenv()\n",
    "\n",
    "class MyAssistant(RoutedAgent):\n",
    "    def __init__(self, name: str) -> None:\n",
    "        super().__init__(name)\n",
    "        model_client = OpenAIChatCompletionClient(model=\"gpt-4o\")\n",
    "        self._delegate = AssistantAgent(name, model_client=model_client)\n",
    "\n",
    "    @message_handler\n",
    "    async def handle_my_message_type(self, message: MyMessageType, ctx: MessageContext) -> None:\n",
    "        print(f\"{self.id.type} received message: {message.content}\")\n",
    "        response = await self._delegate.on_messages(\n",
    "            [TextMessage(content=message.content, source=\"user\")], ctx.cancellation_token\n",
    "        )\n",
    "        # create a text file and save the response\n",
    "        with open(f\"{self.id.type}_response.txt\", \"w\") as f:\n",
    "            f.write(response.chat_message.content)\n",
    "        print(f\"{self.id.type} responded: {response.chat_message.content}\")"
   ]
  },
  {
   "cell_type": "code",
   "execution_count": 20,
   "id": "ec5f369e",
   "metadata": {},
   "outputs": [
    {
     "data": {
      "text/plain": [
       "AgentType(type='my_assistant')"
      ]
     },
     "execution_count": 20,
     "metadata": {},
     "output_type": "execute_result"
    }
   ],
   "source": [
    "from autogen_core import SingleThreadedAgentRuntime\n",
    "\n",
    "runtime = SingleThreadedAgentRuntime()\n",
    "await MyAgent.register(runtime, \"my_agent\", lambda: MyAgent())\n",
    "await MyAssistant.register(runtime, \"my_assistant\", lambda: MyAssistant(\"my_assistant\"))"
   ]
  },
  {
   "cell_type": "code",
   "execution_count": 21,
   "id": "688c7e44",
   "metadata": {},
   "outputs": [
    {
     "name": "stdout",
     "output_type": "stream",
     "text": [
      "my_agent received message: Hello from MyAgent!\n",
      "my_assistant received message: Hello from MyAssistant!\n",
      "my_assistant responded: Hello! How can I assist you today?\n"
     ]
    }
   ],
   "source": [
    "runtime.start()\n",
    "await runtime.send_message(MyMessageType(\"Hello from MyAgent!\"), AgentId(type=\"my_agent\", key=\"default\"))\n",
    "await runtime.send_message(MyMessageType(\"Hello from MyAssistant!\"), AgentId(type=\"my_assistant\", key=\"default\"))\n",
    "await runtime.stop()"
   ]
  },
  {
   "cell_type": "code",
   "execution_count": null,
   "id": "cd43e8d1",
   "metadata": {},
   "outputs": [],
   "source": []
  }
 ],
 "metadata": {
  "kernelspec": {
   "display_name": "autogen-examples",
   "language": "python",
   "name": "python3"
  },
  "language_info": {
   "codemirror_mode": {
    "name": "ipython",
    "version": 3
   },
   "file_extension": ".py",
   "mimetype": "text/x-python",
   "name": "python",
   "nbconvert_exporter": "python",
   "pygments_lexer": "ipython3",
   "version": "3.13.3"
  }
 },
 "nbformat": 4,
 "nbformat_minor": 5
}
