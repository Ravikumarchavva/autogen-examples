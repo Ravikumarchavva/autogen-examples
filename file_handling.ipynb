{
 "cells": [
  {
   "cell_type": "code",
   "execution_count": 1,
   "id": "0b369187",
   "metadata": {},
   "outputs": [],
   "source": [
    "from pydantic import BaseModel\n",
    "from openai import OpenAI\n",
    "import json\n",
    "import base64\n",
    "from typing import List, Optional\n",
    "from dotenv import load_dotenv\n",
    "load_dotenv()\n",
    "\n",
    "\n",
    "class InvoiceLineItem(BaseModel):\n",
    "    service_description: str\n",
    "    amount_without_vat: float\n",
    "    quantity: int\n",
    "    total_amount: float\n",
    "\n",
    "class InvoiceHeader(BaseModel):\n",
    "    invoice_no: str\n",
    "    customer_no: str\n",
    "    invoice_period: str\n",
    "    date: str\n",
    "    customer_name: str\n",
    "    customer_address: str\n",
    "    vat_no: Optional[str] = None\n",
    "    contact_person_name: Optional[str] = None\n",
    "    contact_person_phone: Optional[str] = None\n",
    "\n",
    "class Invoice(BaseModel):\n",
    "    header: InvoiceHeader\n",
    "    line_items: List[InvoiceLineItem]\n",
    "    total_without_vat: float\n",
    "    vat_amount: float\n",
    "    gross_amount_incl_vat: float\n",
    "    terms_of_payment: str\n",
    "    bank_iban: str\n",
    "    bank_bic: str\n",
    "\n",
    "# Instantiate OpenAI client\n",
    "client = OpenAI()\n",
    "\n",
    "# Load & encode the PDF\n",
    "with open(\"sample-invoice.pdf\", \"rb\") as f:\n",
    "    pdf_b64 = base64.b64encode(f.read()).decode()\n",
    "\n",
    "\n",
    "# Create chat completion with PDF embedded env  \n",
    "response = client.responses.parse(\n",
    "    model=\"gpt-4.1-mini\",\n",
    "    input=[\n",
    "        {\"role\": \"system\", \"content\": \"You are a precise invoice parser. you will receive a PDF invoice and must extract structured data from it.\"},\n",
    "        {\"role\": \"user\", \"content\": f\"data:application/pdf;base64,{pdf_b64}\"}\n",
    "    ],\n",
    "    text_format=Invoice,\n",
    ")\n"
   ]
  },
  {
   "cell_type": "code",
   "execution_count": 22,
   "id": "52462da6",
   "metadata": {},
   "outputs": [],
   "source": [
    "data = json.loads(response.output[0].content[0].text)"
   ]
  },
  {
   "cell_type": "code",
   "execution_count": 23,
   "id": "86469b3c",
   "metadata": {},
   "outputs": [
    {
     "name": "stdout",
     "output_type": "stream",
     "text": [
      "Saving structured invoice data... \n"
     ]
    }
   ],
   "source": [
    "\n",
    "# Save structured output\n",
    "with open(\"invoice_output.json\", \"w\") as f:\n",
    "    print(\"Saving structured invoice data... \")\n",
    "    f.write(json.dumps(data, indent=2))"
   ]
  },
  {
   "cell_type": "code",
   "execution_count": null,
   "id": "713dc3eb",
   "metadata": {},
   "outputs": [],
   "source": []
  }
 ],
 "metadata": {
  "kernelspec": {
   "display_name": "autogen-examples",
   "language": "python",
   "name": "python3"
  },
  "language_info": {
   "codemirror_mode": {
    "name": "ipython",
    "version": 3
   },
   "file_extension": ".py",
   "mimetype": "text/x-python",
   "name": "python",
   "nbconvert_exporter": "python",
   "pygments_lexer": "ipython3",
   "version": "3.12.3"
  }
 },
 "nbformat": 4,
 "nbformat_minor": 5
}
