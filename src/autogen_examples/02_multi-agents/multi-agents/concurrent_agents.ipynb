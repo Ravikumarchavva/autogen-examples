{
 "cells": [
  {
   "cell_type": "code",
   "execution_count": 3,
   "id": "48a18ef7",
   "metadata": {},
   "outputs": [],
   "source": [
    "import asyncio\n",
    "from dataclasses import dataclass\n",
    "\n",
    "from autogen_core import (\n",
    "    AgentId,\n",
    "    ClosureAgent,\n",
    "    ClosureContext,\n",
    "    DefaultTopicId,\n",
    "    MessageContext,\n",
    "    RoutedAgent,\n",
    "    SingleThreadedAgentRuntime,\n",
    "    TopicId,\n",
    "    TypeSubscription,\n",
    "    default_subscription,\n",
    "    message_handler,\n",
    "    type_subscription,\n",
    ")\n",
    "\n",
    "\n",
    "@dataclass\n",
    "class Task:\n",
    "    task_id: str\n",
    "\n",
    "\n",
    "@dataclass\n",
    "class TaskResponse:\n",
    "    task_id: str\n",
    "    result: str\n"
   ]
  },
  {
   "cell_type": "code",
   "execution_count": 5,
   "id": "ff70b359",
   "metadata": {},
   "outputs": [],
   "source": [
    "@default_subscription\n",
    "class Processor(RoutedAgent):\n",
    "    @message_handler\n",
    "    async def on_task(self, message: Task, ctx: MessageContext) -> None:\n",
    "        print(f\"{self._description} starting task {message.task_id}\")\n",
    "        await asyncio.sleep(2)  # Simulate work\n",
    "        print(f\"{self._description} finished task {message.task_id}\")\n"
   ]
  },
  {
   "cell_type": "code",
   "execution_count": 6,
   "id": "b8b6c468",
   "metadata": {},
   "outputs": [
    {
     "name": "stdout",
     "output_type": "stream",
     "text": [
      "Agent 1 starting task task-1\n",
      "Agent 2 starting task task-1\n",
      "Agent 1 finished task task-1\n",
      "Agent 2 finished task task-1\n"
     ]
    }
   ],
   "source": [
    "runtime = SingleThreadedAgentRuntime()\n",
    "\n",
    "await Processor.register(runtime, \"agent_1\", lambda: Processor(\"Agent 1\"))\n",
    "await Processor.register(runtime, \"agent_2\", lambda: Processor(\"Agent 2\"))\n",
    "\n",
    "runtime.start()\n",
    "\n",
    "await runtime.publish_message(Task(task_id=\"task-1\"), topic_id=DefaultTopicId())\n",
    "\n",
    "await runtime.stop_when_idle()"
   ]
  },
  {
   "cell_type": "code",
   "execution_count": 7,
   "id": "58918e1f",
   "metadata": {},
   "outputs": [
    {
     "name": "stdout",
     "output_type": "stream",
     "text": [
      "Normal processor starting task normal-1\n",
      "Urgent processor starting task urgent-1\n",
      "Urgent processor finished task urgent-1\n",
      "Normal processor finished task normal-1\n"
     ]
    }
   ],
   "source": [
    "TASK_RESULTS_TOPIC_TYPE = \"task-results\"\n",
    "task_results_topic_id = TopicId(type=TASK_RESULTS_TOPIC_TYPE, source=\"default\")\n",
    "\n",
    "\n",
    "@type_subscription(topic_type=\"urgent\")\n",
    "class UrgentProcessor(RoutedAgent):\n",
    "    @message_handler\n",
    "    async def on_task(self, message: Task, ctx: MessageContext) -> None:\n",
    "        print(f\"Urgent processor starting task {message.task_id}\")\n",
    "        await asyncio.sleep(1)  # Simulate work\n",
    "        print(f\"Urgent processor finished task {message.task_id}\")\n",
    "\n",
    "        task_response = TaskResponse(task_id=message.task_id, result=\"Results by Urgent Processor\")\n",
    "        await self.publish_message(task_response, topic_id=task_results_topic_id)\n",
    "\n",
    "\n",
    "@type_subscription(topic_type=\"normal\")\n",
    "class NormalProcessor(RoutedAgent):\n",
    "    @message_handler\n",
    "    async def on_task(self, message: Task, ctx: MessageContext) -> None:\n",
    "        print(f\"Normal processor starting task {message.task_id}\")\n",
    "        await asyncio.sleep(3)  # Simulate work\n",
    "        print(f\"Normal processor finished task {message.task_id}\")\n",
    "\n",
    "        task_response = TaskResponse(task_id=message.task_id, result=\"Results by Normal Processor\")\n",
    "        await self.publish_message(task_response, topic_id=task_results_topic_id)\n",
    "runtime = SingleThreadedAgentRuntime()\n",
    "\n",
    "await UrgentProcessor.register(runtime, \"urgent_processor\", lambda: UrgentProcessor(\"Urgent Processor\"))\n",
    "await NormalProcessor.register(runtime, \"normal_processor\", lambda: NormalProcessor(\"Normal Processor\"))\n",
    "\n",
    "runtime.start()\n",
    "\n",
    "await runtime.publish_message(Task(task_id=\"normal-1\"), topic_id=TopicId(type=\"normal\", source=\"default\"))\n",
    "await runtime.publish_message(Task(task_id=\"urgent-1\"), topic_id=TopicId(type=\"urgent\", source=\"default\"))\n",
    "\n",
    "await runtime.stop_when_idle()\n"
   ]
  },
  {
   "cell_type": "code",
   "execution_count": 8,
   "id": "8ce2b619",
   "metadata": {},
   "outputs": [
    {
     "name": "stdout",
     "output_type": "stream",
     "text": [
      "Normal processor starting task normal-1\n",
      "Urgent processor starting task urgent-1\n",
      "Urgent processor finished task urgent-1\n",
      "Normal processor finished task normal-1\n"
     ]
    }
   ],
   "source": [
    "queue = asyncio.Queue[TaskResponse]()\n",
    "\n",
    "\n",
    "async def collect_result(_agent: ClosureContext, message: TaskResponse, ctx: MessageContext) -> None:\n",
    "    await queue.put(message)\n",
    "\n",
    "\n",
    "runtime.start()\n",
    "\n",
    "CLOSURE_AGENT_TYPE = \"collect_result_agent\"\n",
    "await ClosureAgent.register_closure(\n",
    "    runtime,\n",
    "    CLOSURE_AGENT_TYPE,\n",
    "    collect_result,\n",
    "    subscriptions=lambda: [TypeSubscription(topic_type=TASK_RESULTS_TOPIC_TYPE, agent_type=CLOSURE_AGENT_TYPE)],\n",
    ")\n",
    "\n",
    "await runtime.publish_message(Task(task_id=\"normal-1\"), topic_id=TopicId(type=\"normal\", source=\"default\"))\n",
    "await runtime.publish_message(Task(task_id=\"urgent-1\"), topic_id=TopicId(type=\"urgent\", source=\"default\"))\n",
    "\n",
    "await runtime.stop_when_idle()"
   ]
  },
  {
   "cell_type": "code",
   "execution_count": 10,
   "id": "20e6a211",
   "metadata": {},
   "outputs": [
    {
     "name": "stdout",
     "output_type": "stream",
     "text": [
      "TaskResponse(task_id='urgent-1', result='Results by Urgent Processor')\n",
      "TaskResponse(task_id='normal-1', result='Results by Normal Processor')\n"
     ]
    }
   ],
   "source": [
    "while not queue.empty():\n",
    "    print(await queue.get())\n"
   ]
  },
  {
   "cell_type": "markdown",
   "id": "31c0806a",
   "metadata": {},
   "source": [
    "# Direct Messgeses"
   ]
  },
  {
   "cell_type": "code",
   "execution_count": 15,
   "id": "83cb46da",
   "metadata": {},
   "outputs": [
    {
     "name": "stdout",
     "output_type": "stream",
     "text": [
      "Delegator received task main-task.\n",
      "worker_agent/worker_agent-1 starting task task-part-1\n",
      "worker_agent/worker_agent-2 starting task task-part-2\n",
      "worker_agent/worker_agent-1 finished task task-part-1\n",
      "worker_agent/worker_agent-2 finished task task-part-2\n",
      "Delegator response: Part 1: Results by worker_agent/worker_agent-1, Part 2: Results by worker_agent/worker_agent-2\n"
     ]
    }
   ],
   "source": [
    "class WorkerAgent(RoutedAgent):\n",
    "    @message_handler\n",
    "    async def on_task(self, message: Task, ctx: MessageContext) -> TaskResponse:\n",
    "        print(f\"{self.id} starting task {message.task_id}\")\n",
    "        await asyncio.sleep(2)  # Simulate work\n",
    "        print(f\"{self.id} finished task {message.task_id}\")\n",
    "        return TaskResponse(task_id=message.task_id, result=f\"Results by {self.id}\")\n",
    "\n",
    "\n",
    "class DelegatorAgent(RoutedAgent):\n",
    "    def __init__(self, description: str, worker_type: str):\n",
    "        super().__init__(description)\n",
    "        self.worker_instances = [AgentId(worker_type, f\"{worker_type}-1\"), AgentId(worker_type, f\"{worker_type}-2\")]\n",
    "\n",
    "    @message_handler\n",
    "    async def on_task(self, message: Task, ctx: MessageContext) -> TaskResponse:\n",
    "        print(f\"Delegator received task {message.task_id}.\")\n",
    "\n",
    "        subtask1 = Task(task_id=\"task-part-1\")\n",
    "        subtask2 = Task(task_id=\"task-part-2\")\n",
    "\n",
    "        worker1_result, worker2_result = await asyncio.gather(\n",
    "            self.send_message(subtask1, self.worker_instances[0]), self.send_message(subtask2, self.worker_instances[1])\n",
    "        )\n",
    "\n",
    "        combined_result = f\"Part 1: {worker1_result.result}, \" f\"Part 2: {worker2_result.result}\"\n",
    "        task_response = TaskResponse(task_id=message.task_id, result=combined_result)\n",
    "        return task_response\n",
    "\n",
    "runtime = SingleThreadedAgentRuntime()\n",
    "await WorkerAgent.register(runtime, \"worker_agent\", lambda: WorkerAgent(\"Worker Agent\"))\n",
    "await DelegatorAgent.register(runtime, \"delegator_agent\", lambda: DelegatorAgent(\"Delegator Agent\", \"worker_agent\"))\n",
    "\n",
    "runtime.start()\n",
    "\n",
    "agent_id = AgentId(\"delegator_agent\", \"delegator_agent-1\") \n",
    "response = await runtime.send_message(Task(task_id=\"main-task\"), agent_id)\n",
    "\n",
    "print(f\"Delegator response: {response.result}\")\n",
    "await runtime.stop_when_idle()"
   ]
  },
  {
   "cell_type": "code",
   "execution_count": null,
   "id": "8bfb2947",
   "metadata": {},
   "outputs": [],
   "source": []
  }
 ],
 "metadata": {
  "kernelspec": {
   "display_name": "autogen-examples",
   "language": "python",
   "name": "python3"
  },
  "language_info": {
   "codemirror_mode": {
    "name": "ipython",
    "version": 3
   },
   "file_extension": ".py",
   "mimetype": "text/x-python",
   "name": "python",
   "nbconvert_exporter": "python",
   "pygments_lexer": "ipython3",
   "version": "3.12.3"
  }
 },
 "nbformat": 4,
 "nbformat_minor": 5
}
